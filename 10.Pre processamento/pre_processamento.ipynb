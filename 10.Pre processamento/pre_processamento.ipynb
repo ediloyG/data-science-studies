{
 "cells": [
  {
   "cell_type": "code",
   "execution_count": 1,
   "id": "c2f771e5-e54c-47d7-8423-df7cee7385b5",
   "metadata": {},
   "outputs": [],
   "source": [
    "import seaborn as sns\n",
    "import matplotlib.pyplot as plt\n",
    "import pandas as pd"
   ]
  },
  {
   "cell_type": "markdown",
   "id": "29279a0d-aac4-4948-a720-e718c71cac1d",
   "metadata": {},
   "source": [
    " Verificação do arquivo CHURN_CREDIT.csv"
   ]
  },
  {
   "cell_type": "code",
   "execution_count": 3,
   "id": "ac009ff2-a5c7-4206-ac51-275e797a22dc",
   "metadata": {},
   "outputs": [
    {
     "name": "stderr",
     "output_type": "stream",
     "text": [
      "C:\\Users\\ediloy\\AppData\\Local\\Temp\\ipykernel_20148\\559473514.py:1: DtypeWarning: Columns (11) have mixed types. Specify dtype option on import or set low_memory=False.\n",
      "  df = pd.read_csv(\"CHURN_CREDIT.csv\", delimiter=';')\n"
     ]
    },
    {
     "data": {
      "text/html": [
       "<div>\n",
       "<style scoped>\n",
       "    .dataframe tbody tr th:only-of-type {\n",
       "        vertical-align: middle;\n",
       "    }\n",
       "\n",
       "    .dataframe tbody tr th {\n",
       "        vertical-align: top;\n",
       "    }\n",
       "\n",
       "    .dataframe thead th {\n",
       "        text-align: right;\n",
       "    }\n",
       "</style>\n",
       "<table border=\"1\" class=\"dataframe\">\n",
       "  <thead>\n",
       "    <tr style=\"text-align: right;\">\n",
       "      <th></th>\n",
       "      <th>CustomerId</th>\n",
       "      <th>Sobrenome</th>\n",
       "      <th>Credit_Score</th>\n",
       "      <th>Pais</th>\n",
       "      <th>Genero</th>\n",
       "      <th>Idade</th>\n",
       "      <th>Tempo_Credito</th>\n",
       "      <th>Balance</th>\n",
       "      <th>Qtd_Produtos</th>\n",
       "      <th>Possui_Cartao</th>\n",
       "      <th>Membro_Ativo</th>\n",
       "      <th>Salario_Anual</th>\n",
       "      <th>Churn</th>\n",
       "    </tr>\n",
       "  </thead>\n",
       "  <tbody>\n",
       "    <tr>\n",
       "      <th>0</th>\n",
       "      <td>15813451</td>\n",
       "      <td>Fleetwood-Smith</td>\n",
       "      <td>677</td>\n",
       "      <td>Spain</td>\n",
       "      <td>Male</td>\n",
       "      <td>18.0</td>\n",
       "      <td>5</td>\n",
       "      <td>134796.87</td>\n",
       "      <td>2</td>\n",
       "      <td>1.0</td>\n",
       "      <td>0.0</td>\n",
       "      <td>114858.9</td>\n",
       "      <td>0.0</td>\n",
       "    </tr>\n",
       "    <tr>\n",
       "      <th>1</th>\n",
       "      <td>15641688</td>\n",
       "      <td>Collier</td>\n",
       "      <td>644</td>\n",
       "      <td>Spain</td>\n",
       "      <td>Female</td>\n",
       "      <td>18.0</td>\n",
       "      <td>7</td>\n",
       "      <td>0.00</td>\n",
       "      <td>1</td>\n",
       "      <td>0.0</td>\n",
       "      <td>1.0</td>\n",
       "      <td>74564.41</td>\n",
       "      <td>0.0</td>\n",
       "    </tr>\n",
       "    <tr>\n",
       "      <th>2</th>\n",
       "      <td>15757821</td>\n",
       "      <td>Burgess</td>\n",
       "      <td>641</td>\n",
       "      <td>Spain</td>\n",
       "      <td>Male</td>\n",
       "      <td>18.0</td>\n",
       "      <td>1</td>\n",
       "      <td>0.00</td>\n",
       "      <td>2</td>\n",
       "      <td>0.0</td>\n",
       "      <td>1.0</td>\n",
       "      <td>41542.95</td>\n",
       "      <td>0.0</td>\n",
       "    </tr>\n",
       "    <tr>\n",
       "      <th>3</th>\n",
       "      <td>15673180</td>\n",
       "      <td>Onyekaozulu</td>\n",
       "      <td>826</td>\n",
       "      <td>Spain</td>\n",
       "      <td>Male</td>\n",
       "      <td>18.0</td>\n",
       "      <td>2</td>\n",
       "      <td>0.00</td>\n",
       "      <td>2</td>\n",
       "      <td>0.0</td>\n",
       "      <td>1.0</td>\n",
       "      <td>16245.25</td>\n",
       "      <td>0.0</td>\n",
       "    </tr>\n",
       "    <tr>\n",
       "      <th>4</th>\n",
       "      <td>15664543</td>\n",
       "      <td>Tuan</td>\n",
       "      <td>774</td>\n",
       "      <td>Spain</td>\n",
       "      <td>Female</td>\n",
       "      <td>18.0</td>\n",
       "      <td>1</td>\n",
       "      <td>185891.54</td>\n",
       "      <td>1</td>\n",
       "      <td>1.0</td>\n",
       "      <td>0.0</td>\n",
       "      <td>175072.41</td>\n",
       "      <td>0.0</td>\n",
       "    </tr>\n",
       "    <tr>\n",
       "      <th>5</th>\n",
       "      <td>15673180</td>\n",
       "      <td>Onyekaozulu</td>\n",
       "      <td>688</td>\n",
       "      <td>Spain</td>\n",
       "      <td>Female</td>\n",
       "      <td>18.0</td>\n",
       "      <td>2</td>\n",
       "      <td>0.00</td>\n",
       "      <td>2</td>\n",
       "      <td>1.0</td>\n",
       "      <td>0.0</td>\n",
       "      <td>98349.13</td>\n",
       "      <td>0.0</td>\n",
       "    </tr>\n",
       "    <tr>\n",
       "      <th>6</th>\n",
       "      <td>15641688</td>\n",
       "      <td>Collier</td>\n",
       "      <td>803</td>\n",
       "      <td>Spain</td>\n",
       "      <td>Male</td>\n",
       "      <td>18.0</td>\n",
       "      <td>6</td>\n",
       "      <td>0.00</td>\n",
       "      <td>1</td>\n",
       "      <td>0.0</td>\n",
       "      <td>0.0</td>\n",
       "      <td>59645.24</td>\n",
       "      <td>1.0</td>\n",
       "    </tr>\n",
       "    <tr>\n",
       "      <th>7</th>\n",
       "      <td>15672940</td>\n",
       "      <td>Yevseyev</td>\n",
       "      <td>578</td>\n",
       "      <td>Spain</td>\n",
       "      <td>Female</td>\n",
       "      <td>18.0</td>\n",
       "      <td>8</td>\n",
       "      <td>71843.15</td>\n",
       "      <td>2</td>\n",
       "      <td>0.0</td>\n",
       "      <td>1.0</td>\n",
       "      <td>112649.22</td>\n",
       "      <td>0.0</td>\n",
       "    </tr>\n",
       "    <tr>\n",
       "      <th>8</th>\n",
       "      <td>15694192</td>\n",
       "      <td>Nwankwo</td>\n",
       "      <td>598</td>\n",
       "      <td>Spain</td>\n",
       "      <td>Male</td>\n",
       "      <td>18.0</td>\n",
       "      <td>6</td>\n",
       "      <td>0.00</td>\n",
       "      <td>2</td>\n",
       "      <td>0.0</td>\n",
       "      <td>1.0</td>\n",
       "      <td>173783.38</td>\n",
       "      <td>0.0</td>\n",
       "    </tr>\n",
       "    <tr>\n",
       "      <th>9</th>\n",
       "      <td>15585867</td>\n",
       "      <td>Iroawuchi</td>\n",
       "      <td>624</td>\n",
       "      <td>Spain</td>\n",
       "      <td>Female</td>\n",
       "      <td>18.0</td>\n",
       "      <td>6</td>\n",
       "      <td>0.00</td>\n",
       "      <td>2</td>\n",
       "      <td>0.0</td>\n",
       "      <td>1.0</td>\n",
       "      <td>117038.96</td>\n",
       "      <td>0.0</td>\n",
       "    </tr>\n",
       "  </tbody>\n",
       "</table>\n",
       "</div>"
      ],
      "text/plain": [
       "   CustomerId        Sobrenome  Credit_Score   Pais  Genero  Idade  \\\n",
       "0    15813451  Fleetwood-Smith           677  Spain    Male   18.0   \n",
       "1    15641688          Collier           644  Spain  Female   18.0   \n",
       "2    15757821          Burgess           641  Spain    Male   18.0   \n",
       "3    15673180      Onyekaozulu           826  Spain    Male   18.0   \n",
       "4    15664543             Tuan           774  Spain  Female   18.0   \n",
       "5    15673180      Onyekaozulu           688  Spain  Female   18.0   \n",
       "6    15641688          Collier           803  Spain    Male   18.0   \n",
       "7    15672940         Yevseyev           578  Spain  Female   18.0   \n",
       "8    15694192          Nwankwo           598  Spain    Male   18.0   \n",
       "9    15585867        Iroawuchi           624  Spain  Female   18.0   \n",
       "\n",
       "   Tempo_Credito    Balance  Qtd_Produtos  Possui_Cartao  Membro_Ativo  \\\n",
       "0              5  134796.87             2            1.0           0.0   \n",
       "1              7       0.00             1            0.0           1.0   \n",
       "2              1       0.00             2            0.0           1.0   \n",
       "3              2       0.00             2            0.0           1.0   \n",
       "4              1  185891.54             1            1.0           0.0   \n",
       "5              2       0.00             2            1.0           0.0   \n",
       "6              6       0.00             1            0.0           0.0   \n",
       "7              8   71843.15             2            0.0           1.0   \n",
       "8              6       0.00             2            0.0           1.0   \n",
       "9              6       0.00             2            0.0           1.0   \n",
       "\n",
       "  Salario_Anual  Churn  \n",
       "0      114858.9    0.0  \n",
       "1      74564.41    0.0  \n",
       "2      41542.95    0.0  \n",
       "3      16245.25    0.0  \n",
       "4     175072.41    0.0  \n",
       "5      98349.13    0.0  \n",
       "6      59645.24    1.0  \n",
       "7     112649.22    0.0  \n",
       "8     173783.38    0.0  \n",
       "9     117038.96    0.0  "
      ]
     },
     "execution_count": 3,
     "metadata": {},
     "output_type": "execute_result"
    }
   ],
   "source": [
    "df = pd.read_csv(\"CHURN_CREDIT.csv\", delimiter=';')\n",
    "df.head(10)"
   ]
  },
  {
   "cell_type": "markdown",
   "id": "04d5a6c1-2b22-42a3-8623-f9793fd2170d",
   "metadata": {},
   "source": [
    "erro > have mixed type > alguma colunas tem mais de 1 tipo de dados."
   ]
  },
  {
   "cell_type": "markdown",
   "id": "d3f47676-bebe-4fa9-ac8f-b6a7302e56e7",
   "metadata": {},
   "source": [
    "*   **CustomerID** : Esse é o ID único de cada cliente nosso.\n",
    "* **Sobrenome**: Essa é bem intuitiva é o sobrenome de cada cliente.\n",
    "* **Credit_Score**: É o Score de crédito de cada cliente, muito semelhante aquele número que o serasa e outras empresas atribuem para os clientes. **site para entender credit score [Acesse esse link](https://www.investopedia.com/terms/c/credit_score.asp)\n",
    "* **Pais**: O pais de cada cliente.\n",
    "* **Idade**: A idade de cada cliente.\n",
    "* **Tempo_Credito**: Há quanto tempo nosso cliente utiliza produtos de crédito na nossa empresa - ANOS-.\n",
    "* **Balance**: é o balanço final do nosso cliente, o quanto ele tem em aberto conosco para ainda pagar.\n",
    "* **Qtde_Produtos**: Quantos produtos ele tem contratado com a gente.\n",
    "* **Possui_Cartao**: Se ele possui cartão de crédito.\n",
    "* **Membro_Ativo**: Se atualmente ele é um membro ativo na nossa empresa.\n",
    "* **Salario_anual**: Salário anual do nosso cliente em dólares por ano.\n",
    "* **Churn**: Ne nosso cliente deu churn,** 1 para clientes que nos abandonaram e 0 para clientes que ainda estão conosco!**"
   ]
  },
  {
   "cell_type": "code",
   "execution_count": 6,
   "id": "c8f74d78-a244-404f-a2eb-18ae86cc2856",
   "metadata": {},
   "outputs": [
    {
     "name": "stdout",
     "output_type": "stream",
     "text": [
      "<class 'pandas.core.frame.DataFrame'>\n",
      "RangeIndex: 100000 entries, 0 to 99999\n",
      "Data columns (total 13 columns):\n",
      " #   Column         Non-Null Count   Dtype  \n",
      "---  ------         --------------   -----  \n",
      " 0   CustomerId     100000 non-null  int64  \n",
      " 1   Sobrenome      100000 non-null  object \n",
      " 2   Credit_Score   100000 non-null  int64  \n",
      " 3   Pais           100000 non-null  object \n",
      " 4   Genero         99990 non-null   object \n",
      " 5   Idade          99794 non-null   float64\n",
      " 6   Tempo_Credito  100000 non-null  int64  \n",
      " 7   Balance        100000 non-null  float64\n",
      " 8   Qtd_Produtos   100000 non-null  int64  \n",
      " 9   Possui_Cartao  100000 non-null  float64\n",
      " 10  Membro_Ativo   100000 non-null  float64\n",
      " 11  Salario_Anual  100000 non-null  object \n",
      " 12  Churn          99911 non-null   float64\n",
      "dtypes: float64(5), int64(4), object(4)\n",
      "memory usage: 9.9+ MB\n"
     ]
    }
   ],
   "source": [
    "# verificar os tipo de dados das colunas \n",
    "# df.info() tras uma forma melhor e mais completa a informação\n",
    "\n",
    "df.info()"
   ]
  },
  {
   "cell_type": "markdown",
   "id": "ba91e91e-f1ce-49b6-a239-59e556186458",
   "metadata": {},
   "source": [
    "Sobrenome > mesmo estando como obejct mas não vai ser util \n",
    "Salario_Anual > esta como object e tem que ser inteiro"
   ]
  },
  {
   "cell_type": "code",
   "execution_count": 8,
   "id": "984ce885-30df-492b-9e12-099b2f57d2b5",
   "metadata": {},
   "outputs": [
    {
     "ename": "ValueError",
     "evalue": "could not convert string to float: '38.190.168'",
     "output_type": "error",
     "traceback": [
      "\u001b[1;31m---------------------------------------------------------------------------\u001b[0m",
      "\u001b[1;31mValueError\u001b[0m                                Traceback (most recent call last)",
      "Cell \u001b[1;32mIn[8], line 3\u001b[0m\n\u001b[0;32m      1\u001b[0m \u001b[38;5;66;03m# astype é utilizado para mudar o tipo da dado da colunas, mas para o tipo de dado que esta na colunas vai retor um erro, pois o dado,\u001b[39;00m\n\u001b[0;32m      2\u001b[0m \u001b[38;5;66;03m# da coluna não foi tratado.\u001b[39;00m\n\u001b[1;32m----> 3\u001b[0m df[\u001b[38;5;124m'\u001b[39m\u001b[38;5;124mSalario_Anual\u001b[39m\u001b[38;5;124m'\u001b[39m] \u001b[38;5;241m=\u001b[39m df[\u001b[38;5;124m'\u001b[39m\u001b[38;5;124mSalario_Anual\u001b[39m\u001b[38;5;124m'\u001b[39m]\u001b[38;5;241m.\u001b[39mastype(\u001b[38;5;28mfloat\u001b[39m)\n",
      "File \u001b[1;32m~\\anaconda3\\Lib\\site-packages\\pandas\\core\\generic.py:6643\u001b[0m, in \u001b[0;36mNDFrame.astype\u001b[1;34m(self, dtype, copy, errors)\u001b[0m\n\u001b[0;32m   6637\u001b[0m     results \u001b[38;5;241m=\u001b[39m [\n\u001b[0;32m   6638\u001b[0m         ser\u001b[38;5;241m.\u001b[39mastype(dtype, copy\u001b[38;5;241m=\u001b[39mcopy, errors\u001b[38;5;241m=\u001b[39merrors) \u001b[38;5;28;01mfor\u001b[39;00m _, ser \u001b[38;5;129;01min\u001b[39;00m \u001b[38;5;28mself\u001b[39m\u001b[38;5;241m.\u001b[39mitems()\n\u001b[0;32m   6639\u001b[0m     ]\n\u001b[0;32m   6641\u001b[0m \u001b[38;5;28;01melse\u001b[39;00m:\n\u001b[0;32m   6642\u001b[0m     \u001b[38;5;66;03m# else, only a single dtype is given\u001b[39;00m\n\u001b[1;32m-> 6643\u001b[0m     new_data \u001b[38;5;241m=\u001b[39m \u001b[38;5;28mself\u001b[39m\u001b[38;5;241m.\u001b[39m_mgr\u001b[38;5;241m.\u001b[39mastype(dtype\u001b[38;5;241m=\u001b[39mdtype, copy\u001b[38;5;241m=\u001b[39mcopy, errors\u001b[38;5;241m=\u001b[39merrors)\n\u001b[0;32m   6644\u001b[0m     res \u001b[38;5;241m=\u001b[39m \u001b[38;5;28mself\u001b[39m\u001b[38;5;241m.\u001b[39m_constructor_from_mgr(new_data, axes\u001b[38;5;241m=\u001b[39mnew_data\u001b[38;5;241m.\u001b[39maxes)\n\u001b[0;32m   6645\u001b[0m     \u001b[38;5;28;01mreturn\u001b[39;00m res\u001b[38;5;241m.\u001b[39m__finalize__(\u001b[38;5;28mself\u001b[39m, method\u001b[38;5;241m=\u001b[39m\u001b[38;5;124m\"\u001b[39m\u001b[38;5;124mastype\u001b[39m\u001b[38;5;124m\"\u001b[39m)\n",
      "File \u001b[1;32m~\\anaconda3\\Lib\\site-packages\\pandas\\core\\internals\\managers.py:430\u001b[0m, in \u001b[0;36mBaseBlockManager.astype\u001b[1;34m(self, dtype, copy, errors)\u001b[0m\n\u001b[0;32m    427\u001b[0m \u001b[38;5;28;01melif\u001b[39;00m using_copy_on_write():\n\u001b[0;32m    428\u001b[0m     copy \u001b[38;5;241m=\u001b[39m \u001b[38;5;28;01mFalse\u001b[39;00m\n\u001b[1;32m--> 430\u001b[0m \u001b[38;5;28;01mreturn\u001b[39;00m \u001b[38;5;28mself\u001b[39m\u001b[38;5;241m.\u001b[39mapply(\n\u001b[0;32m    431\u001b[0m     \u001b[38;5;124m\"\u001b[39m\u001b[38;5;124mastype\u001b[39m\u001b[38;5;124m\"\u001b[39m,\n\u001b[0;32m    432\u001b[0m     dtype\u001b[38;5;241m=\u001b[39mdtype,\n\u001b[0;32m    433\u001b[0m     copy\u001b[38;5;241m=\u001b[39mcopy,\n\u001b[0;32m    434\u001b[0m     errors\u001b[38;5;241m=\u001b[39merrors,\n\u001b[0;32m    435\u001b[0m     using_cow\u001b[38;5;241m=\u001b[39musing_copy_on_write(),\n\u001b[0;32m    436\u001b[0m )\n",
      "File \u001b[1;32m~\\anaconda3\\Lib\\site-packages\\pandas\\core\\internals\\managers.py:363\u001b[0m, in \u001b[0;36mBaseBlockManager.apply\u001b[1;34m(self, f, align_keys, **kwargs)\u001b[0m\n\u001b[0;32m    361\u001b[0m         applied \u001b[38;5;241m=\u001b[39m b\u001b[38;5;241m.\u001b[39mapply(f, \u001b[38;5;241m*\u001b[39m\u001b[38;5;241m*\u001b[39mkwargs)\n\u001b[0;32m    362\u001b[0m     \u001b[38;5;28;01melse\u001b[39;00m:\n\u001b[1;32m--> 363\u001b[0m         applied \u001b[38;5;241m=\u001b[39m \u001b[38;5;28mgetattr\u001b[39m(b, f)(\u001b[38;5;241m*\u001b[39m\u001b[38;5;241m*\u001b[39mkwargs)\n\u001b[0;32m    364\u001b[0m     result_blocks \u001b[38;5;241m=\u001b[39m extend_blocks(applied, result_blocks)\n\u001b[0;32m    366\u001b[0m out \u001b[38;5;241m=\u001b[39m \u001b[38;5;28mtype\u001b[39m(\u001b[38;5;28mself\u001b[39m)\u001b[38;5;241m.\u001b[39mfrom_blocks(result_blocks, \u001b[38;5;28mself\u001b[39m\u001b[38;5;241m.\u001b[39maxes)\n",
      "File \u001b[1;32m~\\anaconda3\\Lib\\site-packages\\pandas\\core\\internals\\blocks.py:758\u001b[0m, in \u001b[0;36mBlock.astype\u001b[1;34m(self, dtype, copy, errors, using_cow, squeeze)\u001b[0m\n\u001b[0;32m    755\u001b[0m         \u001b[38;5;28;01mraise\u001b[39;00m \u001b[38;5;167;01mValueError\u001b[39;00m(\u001b[38;5;124m\"\u001b[39m\u001b[38;5;124mCan not squeeze with more than one column.\u001b[39m\u001b[38;5;124m\"\u001b[39m)\n\u001b[0;32m    756\u001b[0m     values \u001b[38;5;241m=\u001b[39m values[\u001b[38;5;241m0\u001b[39m, :]  \u001b[38;5;66;03m# type: ignore[call-overload]\u001b[39;00m\n\u001b[1;32m--> 758\u001b[0m new_values \u001b[38;5;241m=\u001b[39m astype_array_safe(values, dtype, copy\u001b[38;5;241m=\u001b[39mcopy, errors\u001b[38;5;241m=\u001b[39merrors)\n\u001b[0;32m    760\u001b[0m new_values \u001b[38;5;241m=\u001b[39m maybe_coerce_values(new_values)\n\u001b[0;32m    762\u001b[0m refs \u001b[38;5;241m=\u001b[39m \u001b[38;5;28;01mNone\u001b[39;00m\n",
      "File \u001b[1;32m~\\anaconda3\\Lib\\site-packages\\pandas\\core\\dtypes\\astype.py:237\u001b[0m, in \u001b[0;36mastype_array_safe\u001b[1;34m(values, dtype, copy, errors)\u001b[0m\n\u001b[0;32m    234\u001b[0m     dtype \u001b[38;5;241m=\u001b[39m dtype\u001b[38;5;241m.\u001b[39mnumpy_dtype\n\u001b[0;32m    236\u001b[0m \u001b[38;5;28;01mtry\u001b[39;00m:\n\u001b[1;32m--> 237\u001b[0m     new_values \u001b[38;5;241m=\u001b[39m astype_array(values, dtype, copy\u001b[38;5;241m=\u001b[39mcopy)\n\u001b[0;32m    238\u001b[0m \u001b[38;5;28;01mexcept\u001b[39;00m (\u001b[38;5;167;01mValueError\u001b[39;00m, \u001b[38;5;167;01mTypeError\u001b[39;00m):\n\u001b[0;32m    239\u001b[0m     \u001b[38;5;66;03m# e.g. _astype_nansafe can fail on object-dtype of strings\u001b[39;00m\n\u001b[0;32m    240\u001b[0m     \u001b[38;5;66;03m#  trying to convert to float\u001b[39;00m\n\u001b[0;32m    241\u001b[0m     \u001b[38;5;28;01mif\u001b[39;00m errors \u001b[38;5;241m==\u001b[39m \u001b[38;5;124m\"\u001b[39m\u001b[38;5;124mignore\u001b[39m\u001b[38;5;124m\"\u001b[39m:\n",
      "File \u001b[1;32m~\\anaconda3\\Lib\\site-packages\\pandas\\core\\dtypes\\astype.py:182\u001b[0m, in \u001b[0;36mastype_array\u001b[1;34m(values, dtype, copy)\u001b[0m\n\u001b[0;32m    179\u001b[0m     values \u001b[38;5;241m=\u001b[39m values\u001b[38;5;241m.\u001b[39mastype(dtype, copy\u001b[38;5;241m=\u001b[39mcopy)\n\u001b[0;32m    181\u001b[0m \u001b[38;5;28;01melse\u001b[39;00m:\n\u001b[1;32m--> 182\u001b[0m     values \u001b[38;5;241m=\u001b[39m _astype_nansafe(values, dtype, copy\u001b[38;5;241m=\u001b[39mcopy)\n\u001b[0;32m    184\u001b[0m \u001b[38;5;66;03m# in pandas we don't store numpy str dtypes, so convert to object\u001b[39;00m\n\u001b[0;32m    185\u001b[0m \u001b[38;5;28;01mif\u001b[39;00m \u001b[38;5;28misinstance\u001b[39m(dtype, np\u001b[38;5;241m.\u001b[39mdtype) \u001b[38;5;129;01mand\u001b[39;00m \u001b[38;5;28missubclass\u001b[39m(values\u001b[38;5;241m.\u001b[39mdtype\u001b[38;5;241m.\u001b[39mtype, \u001b[38;5;28mstr\u001b[39m):\n",
      "File \u001b[1;32m~\\anaconda3\\Lib\\site-packages\\pandas\\core\\dtypes\\astype.py:133\u001b[0m, in \u001b[0;36m_astype_nansafe\u001b[1;34m(arr, dtype, copy, skipna)\u001b[0m\n\u001b[0;32m    129\u001b[0m     \u001b[38;5;28;01mraise\u001b[39;00m \u001b[38;5;167;01mValueError\u001b[39;00m(msg)\n\u001b[0;32m    131\u001b[0m \u001b[38;5;28;01mif\u001b[39;00m copy \u001b[38;5;129;01mor\u001b[39;00m arr\u001b[38;5;241m.\u001b[39mdtype \u001b[38;5;241m==\u001b[39m \u001b[38;5;28mobject\u001b[39m \u001b[38;5;129;01mor\u001b[39;00m dtype \u001b[38;5;241m==\u001b[39m \u001b[38;5;28mobject\u001b[39m:\n\u001b[0;32m    132\u001b[0m     \u001b[38;5;66;03m# Explicit copy, or required since NumPy can't view from / to object.\u001b[39;00m\n\u001b[1;32m--> 133\u001b[0m     \u001b[38;5;28;01mreturn\u001b[39;00m arr\u001b[38;5;241m.\u001b[39mastype(dtype, copy\u001b[38;5;241m=\u001b[39m\u001b[38;5;28;01mTrue\u001b[39;00m)\n\u001b[0;32m    135\u001b[0m \u001b[38;5;28;01mreturn\u001b[39;00m arr\u001b[38;5;241m.\u001b[39mastype(dtype, copy\u001b[38;5;241m=\u001b[39mcopy)\n",
      "\u001b[1;31mValueError\u001b[0m: could not convert string to float: '38.190.168'"
     ]
    }
   ],
   "source": [
    "# astype é utilizado para mudar o tipo da dado da colunas, mas para o tipo de dado que esta na colunas vai retor um erro, pois o dado,\n",
    "# da coluna não foi tratado.\n",
    "df['Salario_Anual'] = df['Salario_Anual'].astype(float)"
   ]
  },
  {
   "cell_type": "markdown",
   "id": "d08e0078-b712-415a-8767-ea2e6acd57d0",
   "metadata": {},
   "source": [
    "# ValueError: could not convert string to float: '38.190.168', o ponto do valor e"
   ]
  },
  {
   "cell_type": "code",
   "execution_count": null,
   "id": "85645dc2-9076-49ae-a2e3-779a694b4bd6",
   "metadata": {
    "scrolled": true
   },
   "outputs": [],
   "source": [
    "# Removendo os pontos da coluna Salario_Anual\n",
    "df['Salario_Anual'] = df['Salario_Anual'].str.replace('.', '', regex=False)\n",
    "# Fazendo a conversão novamente dos dados\n",
    "df['Salario_Anual'] = df['Salario_Anual'].astype(float)"
   ]
  },
  {
   "cell_type": "code",
   "execution_count": null,
   "id": "7361beec-e597-4984-8729-d2dfcc1eeb42",
   "metadata": {},
   "outputs": [],
   "source": [
    "# verificadando se o salario Salario_Anual foi transformado em float\n",
    "df.dtypes"
   ]
  },
  {
   "cell_type": "code",
   "execution_count": null,
   "id": "4cf48772-3251-41e7-9b22-892b5c7e74b5",
   "metadata": {},
   "outputs": [],
   "source": [
    "# transformar coluna Churn em int \n",
    "df['Churn'] = df['Churn'].astype(int)"
   ]
  },
  {
   "cell_type": "markdown",
   "id": "10e7bc16-4e3a-486b-a427-0ba1561e5fc3",
   "metadata": {},
   "source": [
    "Cannot convert non-finite values (NA or inf) to integer > informa que tem valores infinitos"
   ]
  },
  {
   "cell_type": "code",
   "execution_count": null,
   "id": "f7db28a6-0ef6-4fec-9e17-926a529c4d8d",
   "metadata": {},
   "outputs": [],
   "source": [
    "# verifica sem tem valores nulo no arquivo, True para verdade, False para falso\n",
    "df.isnull().values.any()"
   ]
  },
  {
   "cell_type": "code",
   "execution_count": null,
   "id": "e8e73d85-247d-4069-9bfe-17c870f4a8d8",
   "metadata": {},
   "outputs": [],
   "source": [
    "# verifica quantos valores nulos em cada colunas.\n",
    "df.isnull().sum()"
   ]
  },
  {
   "cell_type": "markdown",
   "id": "6703a48e-a02f-437a-8897-4e33d158759c",
   "metadata": {},
   "source": [
    "Como o arquivo e muito grande vamos verificar a porcentagem de cada valor nulo correspondente."
   ]
  },
  {
   "cell_type": "code",
   "execution_count": null,
   "id": "f8374008-a3bc-4f5a-8257-35e6ae47c6d9",
   "metadata": {},
   "outputs": [],
   "source": [
    "(df.isnull().sum() / len(df)) * 100 "
   ]
  },
  {
   "cell_type": "markdown",
   "id": "ae952d38-cd7a-4d0b-ad18-f2fb6410db06",
   "metadata": {},
   "source": [
    "como a coluna Churn vai ser nosso objetivo o valor do Salario_Anual vai nosso ultimo tratamento pois é 65% dos dados."
   ]
  },
  {
   "cell_type": "code",
   "execution_count": null,
   "id": "98e23519-01ba-4b44-848b-ceb74fed3ae7",
   "metadata": {},
   "outputs": [],
   "source": [
    "# verificando os dados nulos na coluna Genero\n",
    "df[df['Genero'].isnull()]"
   ]
  },
  {
   "cell_type": "code",
   "execution_count": null,
   "id": "cb50aed9-a79e-4573-8fc9-89fa7aff8314",
   "metadata": {},
   "outputs": [],
   "source": [
    "# Excluindo\n",
    "df.dropna(subset=['Genero'], inplace=True) "
   ]
  },
  {
   "cell_type": "code",
   "execution_count": null,
   "id": "20c8b94c-9d43-4b95-b75a-316381f0493b",
   "metadata": {},
   "outputs": [],
   "source": [
    "# Verificando os dados nulos\n",
    "df['Genero'].isnull().sum()"
   ]
  },
  {
   "cell_type": "code",
   "execution_count": null,
   "id": "04664cb1-d020-43fa-ac4c-44908d28b6b3",
   "metadata": {},
   "outputs": [],
   "source": [
    "# Mesma coisa com coluna idade.\n",
    "df.dropna(subset=['Idade'], inplace=True) "
   ]
  },
  {
   "cell_type": "code",
   "execution_count": null,
   "id": "7e63a09c-6777-4a8e-90eb-9faf257ba9ef",
   "metadata": {},
   "outputs": [],
   "source": [
    "df['Idade'].isnull().sum()"
   ]
  },
  {
   "cell_type": "markdown",
   "id": "8810b8ab-5a07-4744-a28f-45e4caec5c0d",
   "metadata": {},
   "source": [
    "Agora vamos tratar os dados da coluna Salario_Anual"
   ]
  },
  {
   "cell_type": "code",
   "execution_count": null,
   "id": "05d5727e-63a1-4bbf-b46d-3078cbb2248b",
   "metadata": {},
   "outputs": [],
   "source": [
    "# Verificando a distribuição dos dados\n",
    "df['Salario_Anual'].mean()"
   ]
  },
  {
   "cell_type": "code",
   "execution_count": null,
   "id": "545a0d6a-285a-4c1d-9d82-9d3e9a2884b7",
   "metadata": {},
   "outputs": [],
   "source": [
    "df['Salario_Anual'].median()"
   ]
  },
  {
   "cell_type": "markdown",
   "id": "3d67ba92-4a48-43ed-af05-8ce553218a00",
   "metadata": {},
   "source": [
    "Como a mendiana e perto da media, não tem muitos outliers para puxar os dados para fora da curva. "
   ]
  },
  {
   "cell_type": "code",
   "execution_count": null,
   "id": "bb148358-972e-4e26-b15c-f3a2aa98ec28",
   "metadata": {},
   "outputs": [],
   "source": [
    "sns.set_style('whitegrid')\n",
    "\n",
    "# Plota o boxplot da coluna de salário\n",
    "plt.figure(figsize=(8, 6))\n",
    "sns.boxplot(data=df, y='Salario_Anual', color='skyblue')\n",
    "plt.title('Boxplot da Coluna de Salário')\n",
    "plt.ylabel('Salario_Anual')\n",
    "plt.show()"
   ]
  },
  {
   "cell_type": "markdown",
   "id": "5f689f6c-a07e-44cd-a9e5-b2df8a4f4d38",
   "metadata": {},
   "source": [
    "A distribuição dos dados esta muito boa, constado o outlier no grafico perto do valor de 4.0"
   ]
  },
  {
   "cell_type": "code",
   "execution_count": null,
   "id": "a91d2404-e41a-43f5-bb98-1f4389230215",
   "metadata": {},
   "outputs": [],
   "source": [
    "sns.set_style('darkgrid')\n",
    "\n",
    "# Plotando um histograma dos salários para analisarmos a distribuição dos dados\n",
    "plt.figure(figsize=(10, 6))\n",
    "sns.histplot(data=df, x='Salario_Anual', bins=20, kde=True, color='skyblue')\n",
    "plt.title('Histograma da Coluna de Salário')\n",
    "plt.xlabel('Salario_Anual')\n",
    "plt.ylabel('Contagem')\n",
    "plt.show()"
   ]
  },
  {
   "cell_type": "code",
   "execution_count": null,
   "id": "39a48860-c838-43cb-a39b-5c6cb2a7cb0b",
   "metadata": {},
   "outputs": [],
   "source": [
    "# retirando o outlier \n",
    "salario_abaixo_2m = df[df['Salario_Anual'] < 2000000]\n",
    "salario_abaixo_2m['Salario_Anual'].median()"
   ]
  },
  {
   "cell_type": "markdown",
   "id": "7c643485-73fb-4d5b-b9f4-5d54c518de10",
   "metadata": {},
   "source": [
    "comparado com a mediana anterior não teve muita interferencia o tratamento"
   ]
  },
  {
   "cell_type": "code",
   "execution_count": null,
   "id": "dd7a774f-3f8e-451b-8638-1e0f0baab047",
   "metadata": {},
   "outputs": [],
   "source": [
    "mediana_salario_abaixo_2milhoes = df[df['Salario_Anual'] < 2000000]['Salario_Anual'].median()\n",
    "# Substitui os valores faltantes na coluna de salário pela mediana\n",
    "df['Salario_Anual'] = df['Salario_Anual'].fillna(mediana_salario_abaixo_2milhoes)"
   ]
  },
  {
   "cell_type": "code",
   "execution_count": null,
   "id": "ce3ae951-b265-406f-8d4a-1b408b42745f",
   "metadata": {},
   "outputs": [],
   "source": [
    "df['Salario_Anual'].isnull().sum()"
   ]
  },
  {
   "cell_type": "code",
   "execution_count": null,
   "id": "1053f914-2f2f-43d8-b553-81dbc049b276",
   "metadata": {},
   "outputs": [],
   "source": [
    "salario_abaixo_2m['Salario_Anual'].median()"
   ]
  },
  {
   "cell_type": "markdown",
   "id": "cf97ff40-3e36-419a-9d39-610fbbcdb571",
   "metadata": {},
   "source": [
    "inicio da verificação do churn "
   ]
  },
  {
   "cell_type": "code",
   "execution_count": null,
   "id": "82986c0f-1bfc-420e-a4f8-aead7d881669",
   "metadata": {},
   "outputs": [],
   "source": [
    "plt.figure(figsize=(10, 6))\n",
    "sns.histplot(data=df, x='Churn', bins=20, kde=True, color='skyblue')"
   ]
  },
  {
   "cell_type": "markdown",
   "id": "6c5c62f1-f154-4290-b908-bbc63fcd0e29",
   "metadata": {},
   "source": [
    "dados com 0 não é churn e 1 é churn, valor de churn e bem baixo."
   ]
  },
  {
   "cell_type": "code",
   "execution_count": null,
   "id": "192c5895-3b93-4ee1-a4f0-b53e53921214",
   "metadata": {},
   "outputs": [],
   "source": [
    "# Verificar a porcentagem de cada um \n",
    "df['Churn'].value_counts(normalize=True) * 100"
   ]
  },
  {
   "cell_type": "code",
   "execution_count": null,
   "id": "83e925ed-d807-4fe4-8cce-3fa8c5bcf12b",
   "metadata": {},
   "outputs": [],
   "source": [
    "# Seleciona todas as linhas onde a coluna 'Churn' é nula\n",
    "df_churn_nulo = df[df['Churn'].isnull()]\n",
    "\n",
    "# Plotando a distribuição dos paises\n",
    "plt.figure(figsize=(10, 6))\n",
    "sns.countplot(data=df_churn_nulo, x='Pais')\n",
    "plt.title('Distribuição da Coluna \"Pais\" para Churn Nulo')\n",
    "plt.xlabel('Pais')\n",
    "plt.ylabel('Contagem')\n",
    "plt.xticks(rotation=45)\n",
    "plt.show()"
   ]
  },
  {
   "cell_type": "markdown",
   "id": "f64c04b1-4108-4793-8fa6-e347e2843882",
   "metadata": {},
   "source": [
    "Spain tem maior valor de nulo e France"
   ]
  },
  {
   "cell_type": "code",
   "execution_count": null,
   "id": "6fb6e665-50e1-4ea2-9810-0105f28a5a94",
   "metadata": {},
   "outputs": [],
   "source": [
    "plt.figure(figsize=(10, 6))\n",
    "sns.countplot(data=df, x='Pais')\n",
    "plt.title('Distribuição da Coluna \"Pais\" para todo df')\n",
    "plt.xlabel('Pais')\n",
    "plt.ylabel('Contagem')\n",
    "plt.xticks(rotation=45)\n",
    "plt.show()"
   ]
  },
  {
   "cell_type": "markdown",
   "id": "c6443d70-a54b-4588-b7a2-d430453e8634",
   "metadata": {},
   "source": [
    "o valor spain de dados de Churn comparados ao outros não vai afetar os dados "
   ]
  },
  {
   "cell_type": "code",
   "execution_count": null,
   "id": "f413548c-3137-4c16-a00d-25472c052752",
   "metadata": {},
   "outputs": [],
   "source": [
    "df.dropna(subset=['Churn'], inplace=True)"
   ]
  },
  {
   "cell_type": "code",
   "execution_count": null,
   "id": "cfcdf4dd-827b-4a9a-867a-c424172bc040",
   "metadata": {},
   "outputs": [],
   "source": [
    "df['Churn'].isnull().sum()"
   ]
  },
  {
   "cell_type": "code",
   "execution_count": null,
   "id": "73108a9d-1464-4c6d-8763-e581a90dbdb9",
   "metadata": {},
   "outputs": [],
   "source": [
    "df.isnull().sum()"
   ]
  },
  {
   "cell_type": "markdown",
   "id": "bc8f1c7d-947d-4c34-bc82-a50497cb41e6",
   "metadata": {},
   "source": [
    "Ajuste de erros de digitação e alteração de nomes"
   ]
  },
  {
   "cell_type": "code",
   "execution_count": null,
   "id": "d8653eda-2b11-4ed0-abb6-8b663594f088",
   "metadata": {},
   "outputs": [],
   "source": [
    "df.rename(columns={'Balance': 'Balanco'},inplace=True)"
   ]
  },
  {
   "cell_type": "code",
   "execution_count": null,
   "id": "0afb9a68-aee6-4865-9afc-bb6ef3a2f406",
   "metadata": {},
   "outputs": [],
   "source": [
    "df.head()"
   ]
  },
  {
   "cell_type": "code",
   "execution_count": null,
   "id": "b194a3c1-74a8-44d2-b626-39cc425b0365",
   "metadata": {},
   "outputs": [],
   "source": [
    "df['Pais'].unique()"
   ]
  },
  {
   "cell_type": "code",
   "execution_count": null,
   "id": "7e6f48ae-b45c-42ff-a9ce-cf94bccfa9fa",
   "metadata": {},
   "outputs": [],
   "source": [
    "df['Pais']=df['Pais'].str.upper()"
   ]
  },
  {
   "cell_type": "code",
   "execution_count": null,
   "id": "e6595e3a-281b-46f8-9e4e-f00f80e323b2",
   "metadata": {},
   "outputs": [],
   "source": [
    "df['Pais'].unique()"
   ]
  },
  {
   "cell_type": "code",
   "execution_count": null,
   "id": "f4530946-c274-4b37-874c-0d689494654c",
   "metadata": {},
   "outputs": [],
   "source": [
    "df['Pais'] = df['Pais'].replace('GERMANI','GERMANY')"
   ]
  },
  {
   "cell_type": "code",
   "execution_count": null,
   "id": "41e1ac2e-50cf-4e71-b57e-2f818eb360a1",
   "metadata": {},
   "outputs": [],
   "source": [
    "df['Pais'].unique()\n"
   ]
  },
  {
   "cell_type": "code",
   "execution_count": null,
   "id": "a9b83116-4aa0-4873-9dc5-35e9fc187289",
   "metadata": {},
   "outputs": [],
   "source": [
    "df['Genero'].unique()"
   ]
  },
  {
   "cell_type": "markdown",
   "id": "e70f8c15-3e20-499d-9fb9-33f0bb982beb",
   "metadata": {},
   "source": [
    "retirar colunas que não vao ser utilizada para manter integridade da LGPD\n"
   ]
  },
  {
   "cell_type": "code",
   "execution_count": null,
   "id": "89b387f5-2d64-4f07-bc9b-02ebeed0c431",
   "metadata": {},
   "outputs": [],
   "source": [
    "df.drop(columns=['Sobrenome'], inplace=True)"
   ]
  },
  {
   "cell_type": "code",
   "execution_count": null,
   "id": "432ff9b4-4b01-4574-8ba7-9c3a29b0488c",
   "metadata": {},
   "outputs": [],
   "source": [
    "df.drop(columns=['CustomerId'],inplace=True)"
   ]
  },
  {
   "cell_type": "code",
   "execution_count": null,
   "id": "302e32d3-5ef8-48d3-9b53-0049f725f7dd",
   "metadata": {},
   "outputs": [],
   "source": [
    "df.to_csv('Churn_Credit_processado',index=False)"
   ]
  },
  {
   "cell_type": "code",
   "execution_count": null,
   "id": "fcfb0274-d660-46c4-9f8a-c699b4477f04",
   "metadata": {},
   "outputs": [],
   "source": []
  }
 ],
 "metadata": {
  "kernelspec": {
   "display_name": "Python [conda env:base] *",
   "language": "python",
   "name": "conda-base-py"
  },
  "language_info": {
   "codemirror_mode": {
    "name": "ipython",
    "version": 3
   },
   "file_extension": ".py",
   "mimetype": "text/x-python",
   "name": "python",
   "nbconvert_exporter": "python",
   "pygments_lexer": "ipython3",
   "version": "3.12.7"
  }
 },
 "nbformat": 4,
 "nbformat_minor": 5
}

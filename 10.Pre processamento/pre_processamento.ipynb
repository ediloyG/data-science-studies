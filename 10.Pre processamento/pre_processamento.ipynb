{
 "cells": [
  {
   "cell_type": "code",
   "execution_count": 11,
   "id": "c2f771e5-e54c-47d7-8423-df7cee7385b5",
   "metadata": {},
   "outputs": [],
   "source": [
    "import seaborn as sns\n",
    "import matplotlib.pyplot as plt\n",
    "import pandas as pd"
   ]
  },
  {
   "cell_type": "markdown",
   "id": "29279a0d-aac4-4948-a720-e718c71cac1d",
   "metadata": {},
   "source": [
    " Verificação do arquivo CHURN_CREDIT.csv"
   ]
  },
  {
   "cell_type": "code",
   "execution_count": 14,
   "id": "ac009ff2-a5c7-4206-ac51-275e797a22dc",
   "metadata": {},
   "outputs": [
    {
     "name": "stderr",
     "output_type": "stream",
     "text": [
      "C:\\Users\\ediloy\\AppData\\Local\\Temp\\ipykernel_10076\\559473514.py:1: DtypeWarning: Columns (11) have mixed types. Specify dtype option on import or set low_memory=False.\n",
      "  df = pd.read_csv(\"CHURN_CREDIT.csv\", delimiter=';')\n"
     ]
    },
    {
     "data": {
      "text/html": [
       "<div>\n",
       "<style scoped>\n",
       "    .dataframe tbody tr th:only-of-type {\n",
       "        vertical-align: middle;\n",
       "    }\n",
       "\n",
       "    .dataframe tbody tr th {\n",
       "        vertical-align: top;\n",
       "    }\n",
       "\n",
       "    .dataframe thead th {\n",
       "        text-align: right;\n",
       "    }\n",
       "</style>\n",
       "<table border=\"1\" class=\"dataframe\">\n",
       "  <thead>\n",
       "    <tr style=\"text-align: right;\">\n",
       "      <th></th>\n",
       "      <th>CustomerId</th>\n",
       "      <th>Sobrenome</th>\n",
       "      <th>Credit_Score</th>\n",
       "      <th>Pais</th>\n",
       "      <th>Genero</th>\n",
       "      <th>Idade</th>\n",
       "      <th>Tempo_Credito</th>\n",
       "      <th>Balance</th>\n",
       "      <th>Qtd_Produtos</th>\n",
       "      <th>Possui_Cartao</th>\n",
       "      <th>Membro_Ativo</th>\n",
       "      <th>Salario_Anual</th>\n",
       "      <th>Churn</th>\n",
       "    </tr>\n",
       "  </thead>\n",
       "  <tbody>\n",
       "    <tr>\n",
       "      <th>0</th>\n",
       "      <td>15813451</td>\n",
       "      <td>Fleetwood-Smith</td>\n",
       "      <td>677</td>\n",
       "      <td>Spain</td>\n",
       "      <td>Male</td>\n",
       "      <td>18.0</td>\n",
       "      <td>5</td>\n",
       "      <td>134796.87</td>\n",
       "      <td>2</td>\n",
       "      <td>1.0</td>\n",
       "      <td>0.0</td>\n",
       "      <td>114858.9</td>\n",
       "      <td>0.0</td>\n",
       "    </tr>\n",
       "    <tr>\n",
       "      <th>1</th>\n",
       "      <td>15641688</td>\n",
       "      <td>Collier</td>\n",
       "      <td>644</td>\n",
       "      <td>Spain</td>\n",
       "      <td>Female</td>\n",
       "      <td>18.0</td>\n",
       "      <td>7</td>\n",
       "      <td>0.00</td>\n",
       "      <td>1</td>\n",
       "      <td>0.0</td>\n",
       "      <td>1.0</td>\n",
       "      <td>74564.41</td>\n",
       "      <td>0.0</td>\n",
       "    </tr>\n",
       "    <tr>\n",
       "      <th>2</th>\n",
       "      <td>15757821</td>\n",
       "      <td>Burgess</td>\n",
       "      <td>641</td>\n",
       "      <td>Spain</td>\n",
       "      <td>Male</td>\n",
       "      <td>18.0</td>\n",
       "      <td>1</td>\n",
       "      <td>0.00</td>\n",
       "      <td>2</td>\n",
       "      <td>0.0</td>\n",
       "      <td>1.0</td>\n",
       "      <td>41542.95</td>\n",
       "      <td>0.0</td>\n",
       "    </tr>\n",
       "    <tr>\n",
       "      <th>3</th>\n",
       "      <td>15673180</td>\n",
       "      <td>Onyekaozulu</td>\n",
       "      <td>826</td>\n",
       "      <td>Spain</td>\n",
       "      <td>Male</td>\n",
       "      <td>18.0</td>\n",
       "      <td>2</td>\n",
       "      <td>0.00</td>\n",
       "      <td>2</td>\n",
       "      <td>0.0</td>\n",
       "      <td>1.0</td>\n",
       "      <td>16245.25</td>\n",
       "      <td>0.0</td>\n",
       "    </tr>\n",
       "    <tr>\n",
       "      <th>4</th>\n",
       "      <td>15664543</td>\n",
       "      <td>Tuan</td>\n",
       "      <td>774</td>\n",
       "      <td>Spain</td>\n",
       "      <td>Female</td>\n",
       "      <td>18.0</td>\n",
       "      <td>1</td>\n",
       "      <td>185891.54</td>\n",
       "      <td>1</td>\n",
       "      <td>1.0</td>\n",
       "      <td>0.0</td>\n",
       "      <td>175072.41</td>\n",
       "      <td>0.0</td>\n",
       "    </tr>\n",
       "    <tr>\n",
       "      <th>5</th>\n",
       "      <td>15673180</td>\n",
       "      <td>Onyekaozulu</td>\n",
       "      <td>688</td>\n",
       "      <td>Spain</td>\n",
       "      <td>Female</td>\n",
       "      <td>18.0</td>\n",
       "      <td>2</td>\n",
       "      <td>0.00</td>\n",
       "      <td>2</td>\n",
       "      <td>1.0</td>\n",
       "      <td>0.0</td>\n",
       "      <td>98349.13</td>\n",
       "      <td>0.0</td>\n",
       "    </tr>\n",
       "    <tr>\n",
       "      <th>6</th>\n",
       "      <td>15641688</td>\n",
       "      <td>Collier</td>\n",
       "      <td>803</td>\n",
       "      <td>Spain</td>\n",
       "      <td>Male</td>\n",
       "      <td>18.0</td>\n",
       "      <td>6</td>\n",
       "      <td>0.00</td>\n",
       "      <td>1</td>\n",
       "      <td>0.0</td>\n",
       "      <td>0.0</td>\n",
       "      <td>59645.24</td>\n",
       "      <td>1.0</td>\n",
       "    </tr>\n",
       "    <tr>\n",
       "      <th>7</th>\n",
       "      <td>15672940</td>\n",
       "      <td>Yevseyev</td>\n",
       "      <td>578</td>\n",
       "      <td>Spain</td>\n",
       "      <td>Female</td>\n",
       "      <td>18.0</td>\n",
       "      <td>8</td>\n",
       "      <td>71843.15</td>\n",
       "      <td>2</td>\n",
       "      <td>0.0</td>\n",
       "      <td>1.0</td>\n",
       "      <td>112649.22</td>\n",
       "      <td>0.0</td>\n",
       "    </tr>\n",
       "    <tr>\n",
       "      <th>8</th>\n",
       "      <td>15694192</td>\n",
       "      <td>Nwankwo</td>\n",
       "      <td>598</td>\n",
       "      <td>Spain</td>\n",
       "      <td>Male</td>\n",
       "      <td>18.0</td>\n",
       "      <td>6</td>\n",
       "      <td>0.00</td>\n",
       "      <td>2</td>\n",
       "      <td>0.0</td>\n",
       "      <td>1.0</td>\n",
       "      <td>173783.38</td>\n",
       "      <td>0.0</td>\n",
       "    </tr>\n",
       "    <tr>\n",
       "      <th>9</th>\n",
       "      <td>15585867</td>\n",
       "      <td>Iroawuchi</td>\n",
       "      <td>624</td>\n",
       "      <td>Spain</td>\n",
       "      <td>Female</td>\n",
       "      <td>18.0</td>\n",
       "      <td>6</td>\n",
       "      <td>0.00</td>\n",
       "      <td>2</td>\n",
       "      <td>0.0</td>\n",
       "      <td>1.0</td>\n",
       "      <td>117038.96</td>\n",
       "      <td>0.0</td>\n",
       "    </tr>\n",
       "  </tbody>\n",
       "</table>\n",
       "</div>"
      ],
      "text/plain": [
       "   CustomerId        Sobrenome  Credit_Score   Pais  Genero  Idade  \\\n",
       "0    15813451  Fleetwood-Smith           677  Spain    Male   18.0   \n",
       "1    15641688          Collier           644  Spain  Female   18.0   \n",
       "2    15757821          Burgess           641  Spain    Male   18.0   \n",
       "3    15673180      Onyekaozulu           826  Spain    Male   18.0   \n",
       "4    15664543             Tuan           774  Spain  Female   18.0   \n",
       "5    15673180      Onyekaozulu           688  Spain  Female   18.0   \n",
       "6    15641688          Collier           803  Spain    Male   18.0   \n",
       "7    15672940         Yevseyev           578  Spain  Female   18.0   \n",
       "8    15694192          Nwankwo           598  Spain    Male   18.0   \n",
       "9    15585867        Iroawuchi           624  Spain  Female   18.0   \n",
       "\n",
       "   Tempo_Credito    Balance  Qtd_Produtos  Possui_Cartao  Membro_Ativo  \\\n",
       "0              5  134796.87             2            1.0           0.0   \n",
       "1              7       0.00             1            0.0           1.0   \n",
       "2              1       0.00             2            0.0           1.0   \n",
       "3              2       0.00             2            0.0           1.0   \n",
       "4              1  185891.54             1            1.0           0.0   \n",
       "5              2       0.00             2            1.0           0.0   \n",
       "6              6       0.00             1            0.0           0.0   \n",
       "7              8   71843.15             2            0.0           1.0   \n",
       "8              6       0.00             2            0.0           1.0   \n",
       "9              6       0.00             2            0.0           1.0   \n",
       "\n",
       "  Salario_Anual  Churn  \n",
       "0      114858.9    0.0  \n",
       "1      74564.41    0.0  \n",
       "2      41542.95    0.0  \n",
       "3      16245.25    0.0  \n",
       "4     175072.41    0.0  \n",
       "5      98349.13    0.0  \n",
       "6      59645.24    1.0  \n",
       "7     112649.22    0.0  \n",
       "8     173783.38    0.0  \n",
       "9     117038.96    0.0  "
      ]
     },
     "execution_count": 14,
     "metadata": {},
     "output_type": "execute_result"
    }
   ],
   "source": [
    "df = pd.read_csv(\"CHURN_CREDIT.csv\", delimiter=';')\n",
    "df.head(10)"
   ]
  },
  {
   "cell_type": "markdown",
   "id": "04d5a6c1-2b22-42a3-8623-f9793fd2170d",
   "metadata": {},
   "source": [
    "erro > have mixed type > alguma colunas tem mais de 1 tipo de dados."
   ]
  },
  {
   "cell_type": "markdown",
   "id": "d3f47676-bebe-4fa9-ac8f-b6a7302e56e7",
   "metadata": {},
   "source": [
    "*   **CustomerID** : Esse é o ID único de cada cliente nosso.\n",
    "* **Sobrenome**: Essa é bem intuitiva é o sobrenome de cada cliente.\n",
    "* **Credit_Score**: É o Score de crédito de cada cliente, muito semelhante aquele número que o serasa e outras empresas atribuem para os clientes. **site para entender credit score [Acesse esse link](https://www.investopedia.com/terms/c/credit_score.asp)\n",
    "* **Pais**: O pais de cada cliente.\n",
    "* **Idade**: A idade de cada cliente.\n",
    "* **Tempo_Credito**: Há quanto tempo nosso cliente utiliza produtos de crédito na nossa empresa - ANOS-.\n",
    "* **Balance**: é o balanço final do nosso cliente, o quanto ele tem em aberto conosco para ainda pagar.\n",
    "* **Qtde_Produtos**: Quantos produtos ele tem contratado com a gente.\n",
    "* **Possui_Cartao**: Se ele possui cartão de crédito.\n",
    "* **Membro_Ativo**: Se atualmente ele é um membro ativo na nossa empresa.\n",
    "* **Salario_anual**: Salário anual do nosso cliente em dólares por ano.\n",
    "* **Churn**: Ne nosso cliente deu churn,** 1 para clientes que nos abandonaram e 0 para clientes que ainda estão conosco!**"
   ]
  },
  {
   "cell_type": "code",
   "execution_count": 25,
   "id": "c8f74d78-a244-404f-a2eb-18ae86cc2856",
   "metadata": {},
   "outputs": [
    {
     "name": "stdout",
     "output_type": "stream",
     "text": [
      "<class 'pandas.core.frame.DataFrame'>\n",
      "RangeIndex: 100000 entries, 0 to 99999\n",
      "Data columns (total 13 columns):\n",
      " #   Column         Non-Null Count   Dtype  \n",
      "---  ------         --------------   -----  \n",
      " 0   CustomerId     100000 non-null  int64  \n",
      " 1   Sobrenome      100000 non-null  object \n",
      " 2   Credit_Score   100000 non-null  int64  \n",
      " 3   Pais           100000 non-null  object \n",
      " 4   Genero         99990 non-null   object \n",
      " 5   Idade          99794 non-null   float64\n",
      " 6   Tempo_Credito  100000 non-null  int64  \n",
      " 7   Balance        100000 non-null  float64\n",
      " 8   Qtd_Produtos   100000 non-null  int64  \n",
      " 9   Possui_Cartao  100000 non-null  float64\n",
      " 10  Membro_Ativo   100000 non-null  float64\n",
      " 11  Salario_Anual  100000 non-null  object \n",
      " 12  Churn          99911 non-null   float64\n",
      "dtypes: float64(5), int64(4), object(4)\n",
      "memory usage: 9.9+ MB\n"
     ]
    }
   ],
   "source": [
    "# verificar os tipo de dados das colunas \n",
    "# df.info() tras uma forma melhor e mais completa a informação\n",
    "\n",
    "df.info()"
   ]
  },
  {
   "cell_type": "markdown",
   "id": "ba91e91e-f1ce-49b6-a239-59e556186458",
   "metadata": {},
   "source": [
    "Sobrenome > mesmo estando como obejct mas não vai ser util \n",
    "Salario_Anual > esta como object e tem que ser inteiro"
   ]
  },
  {
   "cell_type": "code",
   "execution_count": 28,
   "id": "984ce885-30df-492b-9e12-099b2f57d2b5",
   "metadata": {},
   "outputs": [
    {
     "ename": "ValueError",
     "evalue": "could not convert string to float: '38.190.168'",
     "output_type": "error",
     "traceback": [
      "\u001b[1;31m---------------------------------------------------------------------------\u001b[0m",
      "\u001b[1;31mValueError\u001b[0m                                Traceback (most recent call last)",
      "Cell \u001b[1;32mIn[28], line 3\u001b[0m\n\u001b[0;32m      1\u001b[0m \u001b[38;5;66;03m# astype é utilizado para mudar o tipo da dado da colunas, mas para o tipo de dado que esta na colunas vai retor um erro, pois o dado,\u001b[39;00m\n\u001b[0;32m      2\u001b[0m \u001b[38;5;66;03m# da coluna não foi tratado.\u001b[39;00m\n\u001b[1;32m----> 3\u001b[0m df[\u001b[38;5;124m'\u001b[39m\u001b[38;5;124mSalario_Anual\u001b[39m\u001b[38;5;124m'\u001b[39m] \u001b[38;5;241m=\u001b[39m df[\u001b[38;5;124m'\u001b[39m\u001b[38;5;124mSalario_Anual\u001b[39m\u001b[38;5;124m'\u001b[39m]\u001b[38;5;241m.\u001b[39mastype(\u001b[38;5;28mfloat\u001b[39m)\n",
      "File \u001b[1;32m~\\anaconda3\\Lib\\site-packages\\pandas\\core\\generic.py:6643\u001b[0m, in \u001b[0;36mNDFrame.astype\u001b[1;34m(self, dtype, copy, errors)\u001b[0m\n\u001b[0;32m   6637\u001b[0m     results \u001b[38;5;241m=\u001b[39m [\n\u001b[0;32m   6638\u001b[0m         ser\u001b[38;5;241m.\u001b[39mastype(dtype, copy\u001b[38;5;241m=\u001b[39mcopy, errors\u001b[38;5;241m=\u001b[39merrors) \u001b[38;5;28;01mfor\u001b[39;00m _, ser \u001b[38;5;129;01min\u001b[39;00m \u001b[38;5;28mself\u001b[39m\u001b[38;5;241m.\u001b[39mitems()\n\u001b[0;32m   6639\u001b[0m     ]\n\u001b[0;32m   6641\u001b[0m \u001b[38;5;28;01melse\u001b[39;00m:\n\u001b[0;32m   6642\u001b[0m     \u001b[38;5;66;03m# else, only a single dtype is given\u001b[39;00m\n\u001b[1;32m-> 6643\u001b[0m     new_data \u001b[38;5;241m=\u001b[39m \u001b[38;5;28mself\u001b[39m\u001b[38;5;241m.\u001b[39m_mgr\u001b[38;5;241m.\u001b[39mastype(dtype\u001b[38;5;241m=\u001b[39mdtype, copy\u001b[38;5;241m=\u001b[39mcopy, errors\u001b[38;5;241m=\u001b[39merrors)\n\u001b[0;32m   6644\u001b[0m     res \u001b[38;5;241m=\u001b[39m \u001b[38;5;28mself\u001b[39m\u001b[38;5;241m.\u001b[39m_constructor_from_mgr(new_data, axes\u001b[38;5;241m=\u001b[39mnew_data\u001b[38;5;241m.\u001b[39maxes)\n\u001b[0;32m   6645\u001b[0m     \u001b[38;5;28;01mreturn\u001b[39;00m res\u001b[38;5;241m.\u001b[39m__finalize__(\u001b[38;5;28mself\u001b[39m, method\u001b[38;5;241m=\u001b[39m\u001b[38;5;124m\"\u001b[39m\u001b[38;5;124mastype\u001b[39m\u001b[38;5;124m\"\u001b[39m)\n",
      "File \u001b[1;32m~\\anaconda3\\Lib\\site-packages\\pandas\\core\\internals\\managers.py:430\u001b[0m, in \u001b[0;36mBaseBlockManager.astype\u001b[1;34m(self, dtype, copy, errors)\u001b[0m\n\u001b[0;32m    427\u001b[0m \u001b[38;5;28;01melif\u001b[39;00m using_copy_on_write():\n\u001b[0;32m    428\u001b[0m     copy \u001b[38;5;241m=\u001b[39m \u001b[38;5;28;01mFalse\u001b[39;00m\n\u001b[1;32m--> 430\u001b[0m \u001b[38;5;28;01mreturn\u001b[39;00m \u001b[38;5;28mself\u001b[39m\u001b[38;5;241m.\u001b[39mapply(\n\u001b[0;32m    431\u001b[0m     \u001b[38;5;124m\"\u001b[39m\u001b[38;5;124mastype\u001b[39m\u001b[38;5;124m\"\u001b[39m,\n\u001b[0;32m    432\u001b[0m     dtype\u001b[38;5;241m=\u001b[39mdtype,\n\u001b[0;32m    433\u001b[0m     copy\u001b[38;5;241m=\u001b[39mcopy,\n\u001b[0;32m    434\u001b[0m     errors\u001b[38;5;241m=\u001b[39merrors,\n\u001b[0;32m    435\u001b[0m     using_cow\u001b[38;5;241m=\u001b[39musing_copy_on_write(),\n\u001b[0;32m    436\u001b[0m )\n",
      "File \u001b[1;32m~\\anaconda3\\Lib\\site-packages\\pandas\\core\\internals\\managers.py:363\u001b[0m, in \u001b[0;36mBaseBlockManager.apply\u001b[1;34m(self, f, align_keys, **kwargs)\u001b[0m\n\u001b[0;32m    361\u001b[0m         applied \u001b[38;5;241m=\u001b[39m b\u001b[38;5;241m.\u001b[39mapply(f, \u001b[38;5;241m*\u001b[39m\u001b[38;5;241m*\u001b[39mkwargs)\n\u001b[0;32m    362\u001b[0m     \u001b[38;5;28;01melse\u001b[39;00m:\n\u001b[1;32m--> 363\u001b[0m         applied \u001b[38;5;241m=\u001b[39m \u001b[38;5;28mgetattr\u001b[39m(b, f)(\u001b[38;5;241m*\u001b[39m\u001b[38;5;241m*\u001b[39mkwargs)\n\u001b[0;32m    364\u001b[0m     result_blocks \u001b[38;5;241m=\u001b[39m extend_blocks(applied, result_blocks)\n\u001b[0;32m    366\u001b[0m out \u001b[38;5;241m=\u001b[39m \u001b[38;5;28mtype\u001b[39m(\u001b[38;5;28mself\u001b[39m)\u001b[38;5;241m.\u001b[39mfrom_blocks(result_blocks, \u001b[38;5;28mself\u001b[39m\u001b[38;5;241m.\u001b[39maxes)\n",
      "File \u001b[1;32m~\\anaconda3\\Lib\\site-packages\\pandas\\core\\internals\\blocks.py:758\u001b[0m, in \u001b[0;36mBlock.astype\u001b[1;34m(self, dtype, copy, errors, using_cow, squeeze)\u001b[0m\n\u001b[0;32m    755\u001b[0m         \u001b[38;5;28;01mraise\u001b[39;00m \u001b[38;5;167;01mValueError\u001b[39;00m(\u001b[38;5;124m\"\u001b[39m\u001b[38;5;124mCan not squeeze with more than one column.\u001b[39m\u001b[38;5;124m\"\u001b[39m)\n\u001b[0;32m    756\u001b[0m     values \u001b[38;5;241m=\u001b[39m values[\u001b[38;5;241m0\u001b[39m, :]  \u001b[38;5;66;03m# type: ignore[call-overload]\u001b[39;00m\n\u001b[1;32m--> 758\u001b[0m new_values \u001b[38;5;241m=\u001b[39m astype_array_safe(values, dtype, copy\u001b[38;5;241m=\u001b[39mcopy, errors\u001b[38;5;241m=\u001b[39merrors)\n\u001b[0;32m    760\u001b[0m new_values \u001b[38;5;241m=\u001b[39m maybe_coerce_values(new_values)\n\u001b[0;32m    762\u001b[0m refs \u001b[38;5;241m=\u001b[39m \u001b[38;5;28;01mNone\u001b[39;00m\n",
      "File \u001b[1;32m~\\anaconda3\\Lib\\site-packages\\pandas\\core\\dtypes\\astype.py:237\u001b[0m, in \u001b[0;36mastype_array_safe\u001b[1;34m(values, dtype, copy, errors)\u001b[0m\n\u001b[0;32m    234\u001b[0m     dtype \u001b[38;5;241m=\u001b[39m dtype\u001b[38;5;241m.\u001b[39mnumpy_dtype\n\u001b[0;32m    236\u001b[0m \u001b[38;5;28;01mtry\u001b[39;00m:\n\u001b[1;32m--> 237\u001b[0m     new_values \u001b[38;5;241m=\u001b[39m astype_array(values, dtype, copy\u001b[38;5;241m=\u001b[39mcopy)\n\u001b[0;32m    238\u001b[0m \u001b[38;5;28;01mexcept\u001b[39;00m (\u001b[38;5;167;01mValueError\u001b[39;00m, \u001b[38;5;167;01mTypeError\u001b[39;00m):\n\u001b[0;32m    239\u001b[0m     \u001b[38;5;66;03m# e.g. _astype_nansafe can fail on object-dtype of strings\u001b[39;00m\n\u001b[0;32m    240\u001b[0m     \u001b[38;5;66;03m#  trying to convert to float\u001b[39;00m\n\u001b[0;32m    241\u001b[0m     \u001b[38;5;28;01mif\u001b[39;00m errors \u001b[38;5;241m==\u001b[39m \u001b[38;5;124m\"\u001b[39m\u001b[38;5;124mignore\u001b[39m\u001b[38;5;124m\"\u001b[39m:\n",
      "File \u001b[1;32m~\\anaconda3\\Lib\\site-packages\\pandas\\core\\dtypes\\astype.py:182\u001b[0m, in \u001b[0;36mastype_array\u001b[1;34m(values, dtype, copy)\u001b[0m\n\u001b[0;32m    179\u001b[0m     values \u001b[38;5;241m=\u001b[39m values\u001b[38;5;241m.\u001b[39mastype(dtype, copy\u001b[38;5;241m=\u001b[39mcopy)\n\u001b[0;32m    181\u001b[0m \u001b[38;5;28;01melse\u001b[39;00m:\n\u001b[1;32m--> 182\u001b[0m     values \u001b[38;5;241m=\u001b[39m _astype_nansafe(values, dtype, copy\u001b[38;5;241m=\u001b[39mcopy)\n\u001b[0;32m    184\u001b[0m \u001b[38;5;66;03m# in pandas we don't store numpy str dtypes, so convert to object\u001b[39;00m\n\u001b[0;32m    185\u001b[0m \u001b[38;5;28;01mif\u001b[39;00m \u001b[38;5;28misinstance\u001b[39m(dtype, np\u001b[38;5;241m.\u001b[39mdtype) \u001b[38;5;129;01mand\u001b[39;00m \u001b[38;5;28missubclass\u001b[39m(values\u001b[38;5;241m.\u001b[39mdtype\u001b[38;5;241m.\u001b[39mtype, \u001b[38;5;28mstr\u001b[39m):\n",
      "File \u001b[1;32m~\\anaconda3\\Lib\\site-packages\\pandas\\core\\dtypes\\astype.py:133\u001b[0m, in \u001b[0;36m_astype_nansafe\u001b[1;34m(arr, dtype, copy, skipna)\u001b[0m\n\u001b[0;32m    129\u001b[0m     \u001b[38;5;28;01mraise\u001b[39;00m \u001b[38;5;167;01mValueError\u001b[39;00m(msg)\n\u001b[0;32m    131\u001b[0m \u001b[38;5;28;01mif\u001b[39;00m copy \u001b[38;5;129;01mor\u001b[39;00m arr\u001b[38;5;241m.\u001b[39mdtype \u001b[38;5;241m==\u001b[39m \u001b[38;5;28mobject\u001b[39m \u001b[38;5;129;01mor\u001b[39;00m dtype \u001b[38;5;241m==\u001b[39m \u001b[38;5;28mobject\u001b[39m:\n\u001b[0;32m    132\u001b[0m     \u001b[38;5;66;03m# Explicit copy, or required since NumPy can't view from / to object.\u001b[39;00m\n\u001b[1;32m--> 133\u001b[0m     \u001b[38;5;28;01mreturn\u001b[39;00m arr\u001b[38;5;241m.\u001b[39mastype(dtype, copy\u001b[38;5;241m=\u001b[39m\u001b[38;5;28;01mTrue\u001b[39;00m)\n\u001b[0;32m    135\u001b[0m \u001b[38;5;28;01mreturn\u001b[39;00m arr\u001b[38;5;241m.\u001b[39mastype(dtype, copy\u001b[38;5;241m=\u001b[39mcopy)\n",
      "\u001b[1;31mValueError\u001b[0m: could not convert string to float: '38.190.168'"
     ]
    }
   ],
   "source": [
    "# astype é utilizado para mudar o tipo da dado da colunas, mas para o tipo de dado que esta na colunas vai retor um erro, pois o dado,\n",
    "# da coluna não foi tratado.\n",
    "df['Salario_Anual'] = df['Salario_Anual'].astype(float)"
   ]
  },
  {
   "cell_type": "markdown",
   "id": "d08e0078-b712-415a-8767-ea2e6acd57d0",
   "metadata": {},
   "source": [
    "# ValueError: could not convert string to float: '38.190.168', o ponto do valor e"
   ]
  },
  {
   "cell_type": "code",
   "execution_count": 46,
   "id": "85645dc2-9076-49ae-a2e3-779a694b4bd6",
   "metadata": {
    "scrolled": true
   },
   "outputs": [
    {
     "ename": "AttributeError",
     "evalue": "Can only use .str accessor with string values!",
     "output_type": "error",
     "traceback": [
      "\u001b[1;31m---------------------------------------------------------------------------\u001b[0m",
      "\u001b[1;31mAttributeError\u001b[0m                            Traceback (most recent call last)",
      "Cell \u001b[1;32mIn[46], line 2\u001b[0m\n\u001b[0;32m      1\u001b[0m \u001b[38;5;66;03m# Removendo os pontos da coluna Salario_Anual\u001b[39;00m\n\u001b[1;32m----> 2\u001b[0m df[\u001b[38;5;124m'\u001b[39m\u001b[38;5;124mSalario_Anual\u001b[39m\u001b[38;5;124m'\u001b[39m] \u001b[38;5;241m=\u001b[39m df[\u001b[38;5;124m'\u001b[39m\u001b[38;5;124mSalario_Anual\u001b[39m\u001b[38;5;124m'\u001b[39m]\u001b[38;5;241m.\u001b[39mstr\u001b[38;5;241m.\u001b[39mreplace(\u001b[38;5;124m'\u001b[39m\u001b[38;5;124m.\u001b[39m\u001b[38;5;124m'\u001b[39m, \u001b[38;5;124m'\u001b[39m\u001b[38;5;124m'\u001b[39m, regex\u001b[38;5;241m=\u001b[39m\u001b[38;5;28;01mFalse\u001b[39;00m)\n\u001b[0;32m      3\u001b[0m \u001b[38;5;66;03m# Fazendo a conversão novamente dos dados\u001b[39;00m\n\u001b[0;32m      4\u001b[0m df[\u001b[38;5;124m'\u001b[39m\u001b[38;5;124mSalario_Anual\u001b[39m\u001b[38;5;124m'\u001b[39m] \u001b[38;5;241m=\u001b[39m df[\u001b[38;5;124m'\u001b[39m\u001b[38;5;124mSalario_Anual\u001b[39m\u001b[38;5;124m'\u001b[39m]\u001b[38;5;241m.\u001b[39mastype(\u001b[38;5;28mfloat\u001b[39m)\n",
      "File \u001b[1;32m~\\anaconda3\\Lib\\site-packages\\pandas\\core\\generic.py:6299\u001b[0m, in \u001b[0;36mNDFrame.__getattr__\u001b[1;34m(self, name)\u001b[0m\n\u001b[0;32m   6292\u001b[0m \u001b[38;5;28;01mif\u001b[39;00m (\n\u001b[0;32m   6293\u001b[0m     name \u001b[38;5;129;01mnot\u001b[39;00m \u001b[38;5;129;01min\u001b[39;00m \u001b[38;5;28mself\u001b[39m\u001b[38;5;241m.\u001b[39m_internal_names_set\n\u001b[0;32m   6294\u001b[0m     \u001b[38;5;129;01mand\u001b[39;00m name \u001b[38;5;129;01mnot\u001b[39;00m \u001b[38;5;129;01min\u001b[39;00m \u001b[38;5;28mself\u001b[39m\u001b[38;5;241m.\u001b[39m_metadata\n\u001b[0;32m   6295\u001b[0m     \u001b[38;5;129;01mand\u001b[39;00m name \u001b[38;5;129;01mnot\u001b[39;00m \u001b[38;5;129;01min\u001b[39;00m \u001b[38;5;28mself\u001b[39m\u001b[38;5;241m.\u001b[39m_accessors\n\u001b[0;32m   6296\u001b[0m     \u001b[38;5;129;01mand\u001b[39;00m \u001b[38;5;28mself\u001b[39m\u001b[38;5;241m.\u001b[39m_info_axis\u001b[38;5;241m.\u001b[39m_can_hold_identifiers_and_holds_name(name)\n\u001b[0;32m   6297\u001b[0m ):\n\u001b[0;32m   6298\u001b[0m     \u001b[38;5;28;01mreturn\u001b[39;00m \u001b[38;5;28mself\u001b[39m[name]\n\u001b[1;32m-> 6299\u001b[0m \u001b[38;5;28;01mreturn\u001b[39;00m \u001b[38;5;28mobject\u001b[39m\u001b[38;5;241m.\u001b[39m\u001b[38;5;21m__getattribute__\u001b[39m(\u001b[38;5;28mself\u001b[39m, name)\n",
      "File \u001b[1;32m~\\anaconda3\\Lib\\site-packages\\pandas\\core\\accessor.py:224\u001b[0m, in \u001b[0;36mCachedAccessor.__get__\u001b[1;34m(self, obj, cls)\u001b[0m\n\u001b[0;32m    221\u001b[0m \u001b[38;5;28;01mif\u001b[39;00m obj \u001b[38;5;129;01mis\u001b[39;00m \u001b[38;5;28;01mNone\u001b[39;00m:\n\u001b[0;32m    222\u001b[0m     \u001b[38;5;66;03m# we're accessing the attribute of the class, i.e., Dataset.geo\u001b[39;00m\n\u001b[0;32m    223\u001b[0m     \u001b[38;5;28;01mreturn\u001b[39;00m \u001b[38;5;28mself\u001b[39m\u001b[38;5;241m.\u001b[39m_accessor\n\u001b[1;32m--> 224\u001b[0m accessor_obj \u001b[38;5;241m=\u001b[39m \u001b[38;5;28mself\u001b[39m\u001b[38;5;241m.\u001b[39m_accessor(obj)\n\u001b[0;32m    225\u001b[0m \u001b[38;5;66;03m# Replace the property with the accessor object. Inspired by:\u001b[39;00m\n\u001b[0;32m    226\u001b[0m \u001b[38;5;66;03m# https://www.pydanny.com/cached-property.html\u001b[39;00m\n\u001b[0;32m    227\u001b[0m \u001b[38;5;66;03m# We need to use object.__setattr__ because we overwrite __setattr__ on\u001b[39;00m\n\u001b[0;32m    228\u001b[0m \u001b[38;5;66;03m# NDFrame\u001b[39;00m\n\u001b[0;32m    229\u001b[0m \u001b[38;5;28mobject\u001b[39m\u001b[38;5;241m.\u001b[39m\u001b[38;5;21m__setattr__\u001b[39m(obj, \u001b[38;5;28mself\u001b[39m\u001b[38;5;241m.\u001b[39m_name, accessor_obj)\n",
      "File \u001b[1;32m~\\anaconda3\\Lib\\site-packages\\pandas\\core\\strings\\accessor.py:191\u001b[0m, in \u001b[0;36mStringMethods.__init__\u001b[1;34m(self, data)\u001b[0m\n\u001b[0;32m    188\u001b[0m \u001b[38;5;28;01mdef\u001b[39;00m \u001b[38;5;21m__init__\u001b[39m(\u001b[38;5;28mself\u001b[39m, data) \u001b[38;5;241m-\u001b[39m\u001b[38;5;241m>\u001b[39m \u001b[38;5;28;01mNone\u001b[39;00m:\n\u001b[0;32m    189\u001b[0m     \u001b[38;5;28;01mfrom\u001b[39;00m \u001b[38;5;21;01mpandas\u001b[39;00m\u001b[38;5;21;01m.\u001b[39;00m\u001b[38;5;21;01mcore\u001b[39;00m\u001b[38;5;21;01m.\u001b[39;00m\u001b[38;5;21;01marrays\u001b[39;00m\u001b[38;5;21;01m.\u001b[39;00m\u001b[38;5;21;01mstring_\u001b[39;00m \u001b[38;5;28;01mimport\u001b[39;00m StringDtype\n\u001b[1;32m--> 191\u001b[0m     \u001b[38;5;28mself\u001b[39m\u001b[38;5;241m.\u001b[39m_inferred_dtype \u001b[38;5;241m=\u001b[39m \u001b[38;5;28mself\u001b[39m\u001b[38;5;241m.\u001b[39m_validate(data)\n\u001b[0;32m    192\u001b[0m     \u001b[38;5;28mself\u001b[39m\u001b[38;5;241m.\u001b[39m_is_categorical \u001b[38;5;241m=\u001b[39m \u001b[38;5;28misinstance\u001b[39m(data\u001b[38;5;241m.\u001b[39mdtype, CategoricalDtype)\n\u001b[0;32m    193\u001b[0m     \u001b[38;5;28mself\u001b[39m\u001b[38;5;241m.\u001b[39m_is_string \u001b[38;5;241m=\u001b[39m \u001b[38;5;28misinstance\u001b[39m(data\u001b[38;5;241m.\u001b[39mdtype, StringDtype)\n",
      "File \u001b[1;32m~\\anaconda3\\Lib\\site-packages\\pandas\\core\\strings\\accessor.py:245\u001b[0m, in \u001b[0;36mStringMethods._validate\u001b[1;34m(data)\u001b[0m\n\u001b[0;32m    242\u001b[0m inferred_dtype \u001b[38;5;241m=\u001b[39m lib\u001b[38;5;241m.\u001b[39minfer_dtype(values, skipna\u001b[38;5;241m=\u001b[39m\u001b[38;5;28;01mTrue\u001b[39;00m)\n\u001b[0;32m    244\u001b[0m \u001b[38;5;28;01mif\u001b[39;00m inferred_dtype \u001b[38;5;129;01mnot\u001b[39;00m \u001b[38;5;129;01min\u001b[39;00m allowed_types:\n\u001b[1;32m--> 245\u001b[0m     \u001b[38;5;28;01mraise\u001b[39;00m \u001b[38;5;167;01mAttributeError\u001b[39;00m(\u001b[38;5;124m\"\u001b[39m\u001b[38;5;124mCan only use .str accessor with string values!\u001b[39m\u001b[38;5;124m\"\u001b[39m)\n\u001b[0;32m    246\u001b[0m \u001b[38;5;28;01mreturn\u001b[39;00m inferred_dtype\n",
      "\u001b[1;31mAttributeError\u001b[0m: Can only use .str accessor with string values!"
     ]
    }
   ],
   "source": [
    "# Removendo os pontos da coluna Salario_Anual\n",
    "df['Salario_Anual'] = df['Salario_Anual'].str.replace('.', '', regex=False)\n",
    "# Fazendo a conversão novamente dos dados\n",
    "df['Salario_Anual'] = df['Salario_Anual'].astype(float)"
   ]
  },
  {
   "cell_type": "code",
   "execution_count": 44,
   "id": "7361beec-e597-4984-8729-d2dfcc1eeb42",
   "metadata": {},
   "outputs": [
    {
     "data": {
      "text/plain": [
       "CustomerId         int64\n",
       "Sobrenome         object\n",
       "Credit_Score       int64\n",
       "Pais              object\n",
       "Genero            object\n",
       "Idade            float64\n",
       "Tempo_Credito      int64\n",
       "Balance          float64\n",
       "Qtd_Produtos       int64\n",
       "Possui_Cartao    float64\n",
       "Membro_Ativo     float64\n",
       "Salario_Anual    float64\n",
       "Churn            float64\n",
       "dtype: object"
      ]
     },
     "execution_count": 44,
     "metadata": {},
     "output_type": "execute_result"
    }
   ],
   "source": [
    "# verificadando se o salario Salario_Anual foi transformado em float\n",
    "df.dtypes"
   ]
  },
  {
   "cell_type": "code",
   "execution_count": 48,
   "id": "4cf48772-3251-41e7-9b22-892b5c7e74b5",
   "metadata": {},
   "outputs": [
    {
     "ename": "IntCastingNaNError",
     "evalue": "Cannot convert non-finite values (NA or inf) to integer",
     "output_type": "error",
     "traceback": [
      "\u001b[1;31m---------------------------------------------------------------------------\u001b[0m",
      "\u001b[1;31mIntCastingNaNError\u001b[0m                        Traceback (most recent call last)",
      "Cell \u001b[1;32mIn[48], line 2\u001b[0m\n\u001b[0;32m      1\u001b[0m \u001b[38;5;66;03m# transformar coluna Churn em int \u001b[39;00m\n\u001b[1;32m----> 2\u001b[0m df[\u001b[38;5;124m'\u001b[39m\u001b[38;5;124mChurn\u001b[39m\u001b[38;5;124m'\u001b[39m] \u001b[38;5;241m=\u001b[39m df[\u001b[38;5;124m'\u001b[39m\u001b[38;5;124mChurn\u001b[39m\u001b[38;5;124m'\u001b[39m]\u001b[38;5;241m.\u001b[39mastype(\u001b[38;5;28mint\u001b[39m)\n",
      "File \u001b[1;32m~\\anaconda3\\Lib\\site-packages\\pandas\\core\\generic.py:6643\u001b[0m, in \u001b[0;36mNDFrame.astype\u001b[1;34m(self, dtype, copy, errors)\u001b[0m\n\u001b[0;32m   6637\u001b[0m     results \u001b[38;5;241m=\u001b[39m [\n\u001b[0;32m   6638\u001b[0m         ser\u001b[38;5;241m.\u001b[39mastype(dtype, copy\u001b[38;5;241m=\u001b[39mcopy, errors\u001b[38;5;241m=\u001b[39merrors) \u001b[38;5;28;01mfor\u001b[39;00m _, ser \u001b[38;5;129;01min\u001b[39;00m \u001b[38;5;28mself\u001b[39m\u001b[38;5;241m.\u001b[39mitems()\n\u001b[0;32m   6639\u001b[0m     ]\n\u001b[0;32m   6641\u001b[0m \u001b[38;5;28;01melse\u001b[39;00m:\n\u001b[0;32m   6642\u001b[0m     \u001b[38;5;66;03m# else, only a single dtype is given\u001b[39;00m\n\u001b[1;32m-> 6643\u001b[0m     new_data \u001b[38;5;241m=\u001b[39m \u001b[38;5;28mself\u001b[39m\u001b[38;5;241m.\u001b[39m_mgr\u001b[38;5;241m.\u001b[39mastype(dtype\u001b[38;5;241m=\u001b[39mdtype, copy\u001b[38;5;241m=\u001b[39mcopy, errors\u001b[38;5;241m=\u001b[39merrors)\n\u001b[0;32m   6644\u001b[0m     res \u001b[38;5;241m=\u001b[39m \u001b[38;5;28mself\u001b[39m\u001b[38;5;241m.\u001b[39m_constructor_from_mgr(new_data, axes\u001b[38;5;241m=\u001b[39mnew_data\u001b[38;5;241m.\u001b[39maxes)\n\u001b[0;32m   6645\u001b[0m     \u001b[38;5;28;01mreturn\u001b[39;00m res\u001b[38;5;241m.\u001b[39m__finalize__(\u001b[38;5;28mself\u001b[39m, method\u001b[38;5;241m=\u001b[39m\u001b[38;5;124m\"\u001b[39m\u001b[38;5;124mastype\u001b[39m\u001b[38;5;124m\"\u001b[39m)\n",
      "File \u001b[1;32m~\\anaconda3\\Lib\\site-packages\\pandas\\core\\internals\\managers.py:430\u001b[0m, in \u001b[0;36mBaseBlockManager.astype\u001b[1;34m(self, dtype, copy, errors)\u001b[0m\n\u001b[0;32m    427\u001b[0m \u001b[38;5;28;01melif\u001b[39;00m using_copy_on_write():\n\u001b[0;32m    428\u001b[0m     copy \u001b[38;5;241m=\u001b[39m \u001b[38;5;28;01mFalse\u001b[39;00m\n\u001b[1;32m--> 430\u001b[0m \u001b[38;5;28;01mreturn\u001b[39;00m \u001b[38;5;28mself\u001b[39m\u001b[38;5;241m.\u001b[39mapply(\n\u001b[0;32m    431\u001b[0m     \u001b[38;5;124m\"\u001b[39m\u001b[38;5;124mastype\u001b[39m\u001b[38;5;124m\"\u001b[39m,\n\u001b[0;32m    432\u001b[0m     dtype\u001b[38;5;241m=\u001b[39mdtype,\n\u001b[0;32m    433\u001b[0m     copy\u001b[38;5;241m=\u001b[39mcopy,\n\u001b[0;32m    434\u001b[0m     errors\u001b[38;5;241m=\u001b[39merrors,\n\u001b[0;32m    435\u001b[0m     using_cow\u001b[38;5;241m=\u001b[39musing_copy_on_write(),\n\u001b[0;32m    436\u001b[0m )\n",
      "File \u001b[1;32m~\\anaconda3\\Lib\\site-packages\\pandas\\core\\internals\\managers.py:363\u001b[0m, in \u001b[0;36mBaseBlockManager.apply\u001b[1;34m(self, f, align_keys, **kwargs)\u001b[0m\n\u001b[0;32m    361\u001b[0m         applied \u001b[38;5;241m=\u001b[39m b\u001b[38;5;241m.\u001b[39mapply(f, \u001b[38;5;241m*\u001b[39m\u001b[38;5;241m*\u001b[39mkwargs)\n\u001b[0;32m    362\u001b[0m     \u001b[38;5;28;01melse\u001b[39;00m:\n\u001b[1;32m--> 363\u001b[0m         applied \u001b[38;5;241m=\u001b[39m \u001b[38;5;28mgetattr\u001b[39m(b, f)(\u001b[38;5;241m*\u001b[39m\u001b[38;5;241m*\u001b[39mkwargs)\n\u001b[0;32m    364\u001b[0m     result_blocks \u001b[38;5;241m=\u001b[39m extend_blocks(applied, result_blocks)\n\u001b[0;32m    366\u001b[0m out \u001b[38;5;241m=\u001b[39m \u001b[38;5;28mtype\u001b[39m(\u001b[38;5;28mself\u001b[39m)\u001b[38;5;241m.\u001b[39mfrom_blocks(result_blocks, \u001b[38;5;28mself\u001b[39m\u001b[38;5;241m.\u001b[39maxes)\n",
      "File \u001b[1;32m~\\anaconda3\\Lib\\site-packages\\pandas\\core\\internals\\blocks.py:758\u001b[0m, in \u001b[0;36mBlock.astype\u001b[1;34m(self, dtype, copy, errors, using_cow, squeeze)\u001b[0m\n\u001b[0;32m    755\u001b[0m         \u001b[38;5;28;01mraise\u001b[39;00m \u001b[38;5;167;01mValueError\u001b[39;00m(\u001b[38;5;124m\"\u001b[39m\u001b[38;5;124mCan not squeeze with more than one column.\u001b[39m\u001b[38;5;124m\"\u001b[39m)\n\u001b[0;32m    756\u001b[0m     values \u001b[38;5;241m=\u001b[39m values[\u001b[38;5;241m0\u001b[39m, :]  \u001b[38;5;66;03m# type: ignore[call-overload]\u001b[39;00m\n\u001b[1;32m--> 758\u001b[0m new_values \u001b[38;5;241m=\u001b[39m astype_array_safe(values, dtype, copy\u001b[38;5;241m=\u001b[39mcopy, errors\u001b[38;5;241m=\u001b[39merrors)\n\u001b[0;32m    760\u001b[0m new_values \u001b[38;5;241m=\u001b[39m maybe_coerce_values(new_values)\n\u001b[0;32m    762\u001b[0m refs \u001b[38;5;241m=\u001b[39m \u001b[38;5;28;01mNone\u001b[39;00m\n",
      "File \u001b[1;32m~\\anaconda3\\Lib\\site-packages\\pandas\\core\\dtypes\\astype.py:237\u001b[0m, in \u001b[0;36mastype_array_safe\u001b[1;34m(values, dtype, copy, errors)\u001b[0m\n\u001b[0;32m    234\u001b[0m     dtype \u001b[38;5;241m=\u001b[39m dtype\u001b[38;5;241m.\u001b[39mnumpy_dtype\n\u001b[0;32m    236\u001b[0m \u001b[38;5;28;01mtry\u001b[39;00m:\n\u001b[1;32m--> 237\u001b[0m     new_values \u001b[38;5;241m=\u001b[39m astype_array(values, dtype, copy\u001b[38;5;241m=\u001b[39mcopy)\n\u001b[0;32m    238\u001b[0m \u001b[38;5;28;01mexcept\u001b[39;00m (\u001b[38;5;167;01mValueError\u001b[39;00m, \u001b[38;5;167;01mTypeError\u001b[39;00m):\n\u001b[0;32m    239\u001b[0m     \u001b[38;5;66;03m# e.g. _astype_nansafe can fail on object-dtype of strings\u001b[39;00m\n\u001b[0;32m    240\u001b[0m     \u001b[38;5;66;03m#  trying to convert to float\u001b[39;00m\n\u001b[0;32m    241\u001b[0m     \u001b[38;5;28;01mif\u001b[39;00m errors \u001b[38;5;241m==\u001b[39m \u001b[38;5;124m\"\u001b[39m\u001b[38;5;124mignore\u001b[39m\u001b[38;5;124m\"\u001b[39m:\n",
      "File \u001b[1;32m~\\anaconda3\\Lib\\site-packages\\pandas\\core\\dtypes\\astype.py:182\u001b[0m, in \u001b[0;36mastype_array\u001b[1;34m(values, dtype, copy)\u001b[0m\n\u001b[0;32m    179\u001b[0m     values \u001b[38;5;241m=\u001b[39m values\u001b[38;5;241m.\u001b[39mastype(dtype, copy\u001b[38;5;241m=\u001b[39mcopy)\n\u001b[0;32m    181\u001b[0m \u001b[38;5;28;01melse\u001b[39;00m:\n\u001b[1;32m--> 182\u001b[0m     values \u001b[38;5;241m=\u001b[39m _astype_nansafe(values, dtype, copy\u001b[38;5;241m=\u001b[39mcopy)\n\u001b[0;32m    184\u001b[0m \u001b[38;5;66;03m# in pandas we don't store numpy str dtypes, so convert to object\u001b[39;00m\n\u001b[0;32m    185\u001b[0m \u001b[38;5;28;01mif\u001b[39;00m \u001b[38;5;28misinstance\u001b[39m(dtype, np\u001b[38;5;241m.\u001b[39mdtype) \u001b[38;5;129;01mand\u001b[39;00m \u001b[38;5;28missubclass\u001b[39m(values\u001b[38;5;241m.\u001b[39mdtype\u001b[38;5;241m.\u001b[39mtype, \u001b[38;5;28mstr\u001b[39m):\n",
      "File \u001b[1;32m~\\anaconda3\\Lib\\site-packages\\pandas\\core\\dtypes\\astype.py:101\u001b[0m, in \u001b[0;36m_astype_nansafe\u001b[1;34m(arr, dtype, copy, skipna)\u001b[0m\n\u001b[0;32m     96\u001b[0m     \u001b[38;5;28;01mreturn\u001b[39;00m lib\u001b[38;5;241m.\u001b[39mensure_string_array(\n\u001b[0;32m     97\u001b[0m         arr, skipna\u001b[38;5;241m=\u001b[39mskipna, convert_na_value\u001b[38;5;241m=\u001b[39m\u001b[38;5;28;01mFalse\u001b[39;00m\n\u001b[0;32m     98\u001b[0m     )\u001b[38;5;241m.\u001b[39mreshape(shape)\n\u001b[0;32m    100\u001b[0m \u001b[38;5;28;01melif\u001b[39;00m np\u001b[38;5;241m.\u001b[39missubdtype(arr\u001b[38;5;241m.\u001b[39mdtype, np\u001b[38;5;241m.\u001b[39mfloating) \u001b[38;5;129;01mand\u001b[39;00m dtype\u001b[38;5;241m.\u001b[39mkind \u001b[38;5;129;01min\u001b[39;00m \u001b[38;5;124m\"\u001b[39m\u001b[38;5;124miu\u001b[39m\u001b[38;5;124m\"\u001b[39m:\n\u001b[1;32m--> 101\u001b[0m     \u001b[38;5;28;01mreturn\u001b[39;00m _astype_float_to_int_nansafe(arr, dtype, copy)\n\u001b[0;32m    103\u001b[0m \u001b[38;5;28;01melif\u001b[39;00m arr\u001b[38;5;241m.\u001b[39mdtype \u001b[38;5;241m==\u001b[39m \u001b[38;5;28mobject\u001b[39m:\n\u001b[0;32m    104\u001b[0m     \u001b[38;5;66;03m# if we have a datetime/timedelta array of objects\u001b[39;00m\n\u001b[0;32m    105\u001b[0m     \u001b[38;5;66;03m# then coerce to datetime64[ns] and use DatetimeArray.astype\u001b[39;00m\n\u001b[0;32m    107\u001b[0m     \u001b[38;5;28;01mif\u001b[39;00m lib\u001b[38;5;241m.\u001b[39mis_np_dtype(dtype, \u001b[38;5;124m\"\u001b[39m\u001b[38;5;124mM\u001b[39m\u001b[38;5;124m\"\u001b[39m):\n",
      "File \u001b[1;32m~\\anaconda3\\Lib\\site-packages\\pandas\\core\\dtypes\\astype.py:145\u001b[0m, in \u001b[0;36m_astype_float_to_int_nansafe\u001b[1;34m(values, dtype, copy)\u001b[0m\n\u001b[0;32m    141\u001b[0m \u001b[38;5;250m\u001b[39m\u001b[38;5;124;03m\"\"\"\u001b[39;00m\n\u001b[0;32m    142\u001b[0m \u001b[38;5;124;03mastype with a check preventing converting NaN to an meaningless integer value.\u001b[39;00m\n\u001b[0;32m    143\u001b[0m \u001b[38;5;124;03m\"\"\"\u001b[39;00m\n\u001b[0;32m    144\u001b[0m \u001b[38;5;28;01mif\u001b[39;00m \u001b[38;5;129;01mnot\u001b[39;00m np\u001b[38;5;241m.\u001b[39misfinite(values)\u001b[38;5;241m.\u001b[39mall():\n\u001b[1;32m--> 145\u001b[0m     \u001b[38;5;28;01mraise\u001b[39;00m IntCastingNaNError(\n\u001b[0;32m    146\u001b[0m         \u001b[38;5;124m\"\u001b[39m\u001b[38;5;124mCannot convert non-finite values (NA or inf) to integer\u001b[39m\u001b[38;5;124m\"\u001b[39m\n\u001b[0;32m    147\u001b[0m     )\n\u001b[0;32m    148\u001b[0m \u001b[38;5;28;01mif\u001b[39;00m dtype\u001b[38;5;241m.\u001b[39mkind \u001b[38;5;241m==\u001b[39m \u001b[38;5;124m\"\u001b[39m\u001b[38;5;124mu\u001b[39m\u001b[38;5;124m\"\u001b[39m:\n\u001b[0;32m    149\u001b[0m     \u001b[38;5;66;03m# GH#45151\u001b[39;00m\n\u001b[0;32m    150\u001b[0m     \u001b[38;5;28;01mif\u001b[39;00m \u001b[38;5;129;01mnot\u001b[39;00m (values \u001b[38;5;241m>\u001b[39m\u001b[38;5;241m=\u001b[39m \u001b[38;5;241m0\u001b[39m)\u001b[38;5;241m.\u001b[39mall():\n",
      "\u001b[1;31mIntCastingNaNError\u001b[0m: Cannot convert non-finite values (NA or inf) to integer"
     ]
    }
   ],
   "source": [
    "# transformar coluna Churn em int \n",
    "df['Churn'] = df['Churn'].astype(int)"
   ]
  },
  {
   "cell_type": "markdown",
   "id": "10e7bc16-4e3a-486b-a427-0ba1561e5fc3",
   "metadata": {},
   "source": [
    "Cannot convert non-finite values (NA or inf) to integer > informa que tem valores infinitos"
   ]
  },
  {
   "cell_type": "code",
   "execution_count": 51,
   "id": "f7db28a6-0ef6-4fec-9e17-926a529c4d8d",
   "metadata": {},
   "outputs": [
    {
     "data": {
      "text/plain": [
       "True"
      ]
     },
     "execution_count": 51,
     "metadata": {},
     "output_type": "execute_result"
    }
   ],
   "source": [
    "# verifica sem tem valores nulo no arquivo, True para verdade, False para falso\n",
    "df.isnull().values.any()"
   ]
  },
  {
   "cell_type": "code",
   "execution_count": 53,
   "id": "e8e73d85-247d-4069-9bfe-17c870f4a8d8",
   "metadata": {},
   "outputs": [
    {
     "data": {
      "text/plain": [
       "CustomerId           0\n",
       "Sobrenome            0\n",
       "Credit_Score         0\n",
       "Pais                 0\n",
       "Genero              10\n",
       "Idade              206\n",
       "Tempo_Credito        0\n",
       "Balance              0\n",
       "Qtd_Produtos         0\n",
       "Possui_Cartao        0\n",
       "Membro_Ativo         0\n",
       "Salario_Anual    65536\n",
       "Churn               89\n",
       "dtype: int64"
      ]
     },
     "execution_count": 53,
     "metadata": {},
     "output_type": "execute_result"
    }
   ],
   "source": [
    "# verifica quantos valores nulos em cada colunas.\n",
    "df.isnull().sum()"
   ]
  },
  {
   "cell_type": "markdown",
   "id": "6703a48e-a02f-437a-8897-4e33d158759c",
   "metadata": {},
   "source": [
    "Como o arquivo e muito grande vamos verificar a porcentagem de cada valor nulo correspondente."
   ]
  },
  {
   "cell_type": "code",
   "execution_count": 58,
   "id": "f8374008-a3bc-4f5a-8257-35e6ae47c6d9",
   "metadata": {},
   "outputs": [
    {
     "data": {
      "text/plain": [
       "CustomerId        0.000\n",
       "Sobrenome         0.000\n",
       "Credit_Score      0.000\n",
       "Pais              0.000\n",
       "Genero            0.010\n",
       "Idade             0.206\n",
       "Tempo_Credito     0.000\n",
       "Balance           0.000\n",
       "Qtd_Produtos      0.000\n",
       "Possui_Cartao     0.000\n",
       "Membro_Ativo      0.000\n",
       "Salario_Anual    65.536\n",
       "Churn             0.089\n",
       "dtype: float64"
      ]
     },
     "execution_count": 58,
     "metadata": {},
     "output_type": "execute_result"
    }
   ],
   "source": [
    "(df.isnull().sum() / len(df)) * 100 "
   ]
  },
  {
   "cell_type": "markdown",
   "id": "ae952d38-cd7a-4d0b-ad18-f2fb6410db06",
   "metadata": {},
   "source": [
    "como a coluna Churn vai ser nosso objetivo o valor do Salario_Anual vai nosso ultimo tratamento pois é 65% dos dados."
   ]
  },
  {
   "cell_type": "code",
   "execution_count": 60,
   "id": "98e23519-01ba-4b44-848b-ceb74fed3ae7",
   "metadata": {},
   "outputs": [
    {
     "data": {
      "text/html": [
       "<div>\n",
       "<style scoped>\n",
       "    .dataframe tbody tr th:only-of-type {\n",
       "        vertical-align: middle;\n",
       "    }\n",
       "\n",
       "    .dataframe tbody tr th {\n",
       "        vertical-align: top;\n",
       "    }\n",
       "\n",
       "    .dataframe thead th {\n",
       "        text-align: right;\n",
       "    }\n",
       "</style>\n",
       "<table border=\"1\" class=\"dataframe\">\n",
       "  <thead>\n",
       "    <tr style=\"text-align: right;\">\n",
       "      <th></th>\n",
       "      <th>CustomerId</th>\n",
       "      <th>Sobrenome</th>\n",
       "      <th>Credit_Score</th>\n",
       "      <th>Pais</th>\n",
       "      <th>Genero</th>\n",
       "      <th>Idade</th>\n",
       "      <th>Tempo_Credito</th>\n",
       "      <th>Balance</th>\n",
       "      <th>Qtd_Produtos</th>\n",
       "      <th>Possui_Cartao</th>\n",
       "      <th>Membro_Ativo</th>\n",
       "      <th>Salario_Anual</th>\n",
       "      <th>Churn</th>\n",
       "    </tr>\n",
       "  </thead>\n",
       "  <tbody>\n",
       "    <tr>\n",
       "      <th>61074</th>\n",
       "      <td>15601008</td>\n",
       "      <td>Y?an</td>\n",
       "      <td>667</td>\n",
       "      <td>France</td>\n",
       "      <td>NaN</td>\n",
       "      <td>33.0</td>\n",
       "      <td>3</td>\n",
       "      <td>0.00</td>\n",
       "      <td>2</td>\n",
       "      <td>1.0</td>\n",
       "      <td>1.0</td>\n",
       "      <td>NaN</td>\n",
       "      <td>0.0</td>\n",
       "    </tr>\n",
       "    <tr>\n",
       "      <th>61075</th>\n",
       "      <td>15757895</td>\n",
       "      <td>Ritchie</td>\n",
       "      <td>642</td>\n",
       "      <td>France</td>\n",
       "      <td>NaN</td>\n",
       "      <td>33.0</td>\n",
       "      <td>4</td>\n",
       "      <td>150507.21</td>\n",
       "      <td>1</td>\n",
       "      <td>1.0</td>\n",
       "      <td>1.0</td>\n",
       "      <td>NaN</td>\n",
       "      <td>0.0</td>\n",
       "    </tr>\n",
       "    <tr>\n",
       "      <th>61076</th>\n",
       "      <td>15806983</td>\n",
       "      <td>Moss</td>\n",
       "      <td>646</td>\n",
       "      <td>France</td>\n",
       "      <td>NaN</td>\n",
       "      <td>33.0</td>\n",
       "      <td>3</td>\n",
       "      <td>137148.68</td>\n",
       "      <td>1</td>\n",
       "      <td>1.0</td>\n",
       "      <td>0.0</td>\n",
       "      <td>NaN</td>\n",
       "      <td>0.0</td>\n",
       "    </tr>\n",
       "    <tr>\n",
       "      <th>61077</th>\n",
       "      <td>15761340</td>\n",
       "      <td>Bullen</td>\n",
       "      <td>593</td>\n",
       "      <td>France</td>\n",
       "      <td>NaN</td>\n",
       "      <td>33.0</td>\n",
       "      <td>4</td>\n",
       "      <td>0.00</td>\n",
       "      <td>2</td>\n",
       "      <td>1.0</td>\n",
       "      <td>1.0</td>\n",
       "      <td>NaN</td>\n",
       "      <td>0.0</td>\n",
       "    </tr>\n",
       "    <tr>\n",
       "      <th>61078</th>\n",
       "      <td>15790594</td>\n",
       "      <td>Nnaife</td>\n",
       "      <td>653</td>\n",
       "      <td>France</td>\n",
       "      <td>NaN</td>\n",
       "      <td>33.0</td>\n",
       "      <td>6</td>\n",
       "      <td>0.00</td>\n",
       "      <td>2</td>\n",
       "      <td>1.0</td>\n",
       "      <td>0.0</td>\n",
       "      <td>NaN</td>\n",
       "      <td>0.0</td>\n",
       "    </tr>\n",
       "    <tr>\n",
       "      <th>61079</th>\n",
       "      <td>15679024</td>\n",
       "      <td>Hsia</td>\n",
       "      <td>585</td>\n",
       "      <td>France</td>\n",
       "      <td>NaN</td>\n",
       "      <td>33.0</td>\n",
       "      <td>2</td>\n",
       "      <td>97565.74</td>\n",
       "      <td>1</td>\n",
       "      <td>0.0</td>\n",
       "      <td>0.0</td>\n",
       "      <td>NaN</td>\n",
       "      <td>0.0</td>\n",
       "    </tr>\n",
       "    <tr>\n",
       "      <th>61080</th>\n",
       "      <td>15751553</td>\n",
       "      <td>Bellucci</td>\n",
       "      <td>758</td>\n",
       "      <td>France</td>\n",
       "      <td>NaN</td>\n",
       "      <td>33.0</td>\n",
       "      <td>9</td>\n",
       "      <td>119782.77</td>\n",
       "      <td>1</td>\n",
       "      <td>1.0</td>\n",
       "      <td>0.0</td>\n",
       "      <td>NaN</td>\n",
       "      <td>0.0</td>\n",
       "    </tr>\n",
       "    <tr>\n",
       "      <th>61081</th>\n",
       "      <td>15592578</td>\n",
       "      <td>Ch'ien</td>\n",
       "      <td>679</td>\n",
       "      <td>France</td>\n",
       "      <td>NaN</td>\n",
       "      <td>33.0</td>\n",
       "      <td>7</td>\n",
       "      <td>107499.24</td>\n",
       "      <td>1</td>\n",
       "      <td>1.0</td>\n",
       "      <td>0.0</td>\n",
       "      <td>NaN</td>\n",
       "      <td>0.0</td>\n",
       "    </tr>\n",
       "    <tr>\n",
       "      <th>61082</th>\n",
       "      <td>15592714</td>\n",
       "      <td>Tsao</td>\n",
       "      <td>748</td>\n",
       "      <td>France</td>\n",
       "      <td>NaN</td>\n",
       "      <td>33.0</td>\n",
       "      <td>6</td>\n",
       "      <td>0.00</td>\n",
       "      <td>2</td>\n",
       "      <td>1.0</td>\n",
       "      <td>1.0</td>\n",
       "      <td>NaN</td>\n",
       "      <td>0.0</td>\n",
       "    </tr>\n",
       "    <tr>\n",
       "      <th>61083</th>\n",
       "      <td>15578788</td>\n",
       "      <td>Ch'ien</td>\n",
       "      <td>516</td>\n",
       "      <td>France</td>\n",
       "      <td>NaN</td>\n",
       "      <td>33.0</td>\n",
       "      <td>3</td>\n",
       "      <td>0.00</td>\n",
       "      <td>1</td>\n",
       "      <td>1.0</td>\n",
       "      <td>1.0</td>\n",
       "      <td>NaN</td>\n",
       "      <td>0.0</td>\n",
       "    </tr>\n",
       "  </tbody>\n",
       "</table>\n",
       "</div>"
      ],
      "text/plain": [
       "       CustomerId Sobrenome  Credit_Score    Pais Genero  Idade  \\\n",
       "61074    15601008      Y?an           667  France    NaN   33.0   \n",
       "61075    15757895   Ritchie           642  France    NaN   33.0   \n",
       "61076    15806983      Moss           646  France    NaN   33.0   \n",
       "61077    15761340    Bullen           593  France    NaN   33.0   \n",
       "61078    15790594    Nnaife           653  France    NaN   33.0   \n",
       "61079    15679024      Hsia           585  France    NaN   33.0   \n",
       "61080    15751553  Bellucci           758  France    NaN   33.0   \n",
       "61081    15592578    Ch'ien           679  France    NaN   33.0   \n",
       "61082    15592714      Tsao           748  France    NaN   33.0   \n",
       "61083    15578788    Ch'ien           516  France    NaN   33.0   \n",
       "\n",
       "       Tempo_Credito    Balance  Qtd_Produtos  Possui_Cartao  Membro_Ativo  \\\n",
       "61074              3       0.00             2            1.0           1.0   \n",
       "61075              4  150507.21             1            1.0           1.0   \n",
       "61076              3  137148.68             1            1.0           0.0   \n",
       "61077              4       0.00             2            1.0           1.0   \n",
       "61078              6       0.00             2            1.0           0.0   \n",
       "61079              2   97565.74             1            0.0           0.0   \n",
       "61080              9  119782.77             1            1.0           0.0   \n",
       "61081              7  107499.24             1            1.0           0.0   \n",
       "61082              6       0.00             2            1.0           1.0   \n",
       "61083              3       0.00             1            1.0           1.0   \n",
       "\n",
       "       Salario_Anual  Churn  \n",
       "61074            NaN    0.0  \n",
       "61075            NaN    0.0  \n",
       "61076            NaN    0.0  \n",
       "61077            NaN    0.0  \n",
       "61078            NaN    0.0  \n",
       "61079            NaN    0.0  \n",
       "61080            NaN    0.0  \n",
       "61081            NaN    0.0  \n",
       "61082            NaN    0.0  \n",
       "61083            NaN    0.0  "
      ]
     },
     "execution_count": 60,
     "metadata": {},
     "output_type": "execute_result"
    }
   ],
   "source": [
    "# verificando os dados nulos na coluna Genero\n",
    "df[df['Genero'].isnull()]"
   ]
  },
  {
   "cell_type": "code",
   "execution_count": 62,
   "id": "cb50aed9-a79e-4573-8fc9-89fa7aff8314",
   "metadata": {},
   "outputs": [],
   "source": [
    "# Excluindo\n",
    "df.dropna(subset=['Genero'], inplace=True) "
   ]
  },
  {
   "cell_type": "code",
   "execution_count": 66,
   "id": "20c8b94c-9d43-4b95-b75a-316381f0493b",
   "metadata": {},
   "outputs": [
    {
     "data": {
      "text/plain": [
       "0"
      ]
     },
     "execution_count": 66,
     "metadata": {},
     "output_type": "execute_result"
    }
   ],
   "source": [
    "# Verificando os dados nulos\n",
    "df['Genero'].isnull().sum()"
   ]
  },
  {
   "cell_type": "code",
   "execution_count": 68,
   "id": "04664cb1-d020-43fa-ac4c-44908d28b6b3",
   "metadata": {},
   "outputs": [],
   "source": [
    "# Mesma coisa com coluna idade.\n",
    "df.dropna(subset=['Idade'], inplace=True) "
   ]
  },
  {
   "cell_type": "code",
   "execution_count": 70,
   "id": "7e63a09c-6777-4a8e-90eb-9faf257ba9ef",
   "metadata": {},
   "outputs": [
    {
     "data": {
      "text/plain": [
       "0"
      ]
     },
     "execution_count": 70,
     "metadata": {},
     "output_type": "execute_result"
    }
   ],
   "source": [
    "df['Idade'].isnull().sum()"
   ]
  },
  {
   "cell_type": "markdown",
   "id": "8810b8ab-5a07-4744-a28f-45e4caec5c0d",
   "metadata": {},
   "source": [
    "Agora vamos tratar os dados da coluna Salario_Anual"
   ]
  },
  {
   "cell_type": "code",
   "execution_count": 72,
   "id": "05d5727e-63a1-4bbf-b46d-3078cbb2248b",
   "metadata": {},
   "outputs": [
    {
     "data": {
      "text/plain": [
       "10280264.388924362"
      ]
     },
     "execution_count": 72,
     "metadata": {},
     "output_type": "execute_result"
    }
   ],
   "source": [
    "# Verificando a distribuição dos dados\n",
    "df['Salario_Anual'].mean()"
   ]
  },
  {
   "cell_type": "code",
   "execution_count": 74,
   "id": "545a0d6a-285a-4c1d-9d82-9d3e9a2884b7",
   "metadata": {},
   "outputs": [
    {
     "data": {
      "text/plain": [
       "10787643.5"
      ]
     },
     "execution_count": 74,
     "metadata": {},
     "output_type": "execute_result"
    }
   ],
   "source": [
    "df['Salario_Anual'].median()"
   ]
  },
  {
   "cell_type": "markdown",
   "id": "3d67ba92-4a48-43ed-af05-8ce553218a00",
   "metadata": {},
   "source": [
    "Como a mendiana e perto da media, não tem muitos outliers para puxar os dados para fora da curva. "
   ]
  },
  {
   "cell_type": "code",
   "execution_count": 76,
   "id": "bb148358-972e-4e26-b15c-f3a2aa98ec28",
   "metadata": {},
   "outputs": [
    {
     "data": {
      "image/png": "[encoded data removed]",
      "text/plain": [
       "<Figure size 800x600 with 1 Axes>"
      ]
     },
     "metadata": {},
     "output_type": "display_data"
    }
   ],
   "source": [
    "sns.set_style('whitegrid')\n",
    "\n",
    "# Plota o boxplot da coluna de salário\n",
    "plt.figure(figsize=(8, 6))\n",
    "sns.boxplot(data=df, y='Salario_Anual', color='skyblue')\n",
    "plt.title('Boxplot da Coluna de Salário')\n",
    "plt.ylabel('Salario_Anual')\n",
    "plt.show()"
   ]
  },
  {
   "cell_type": "markdown",
   "id": "5f689f6c-a07e-44cd-a9e5-b2df8a4f4d38",
   "metadata": {},
   "source": [
    "A distribuição dos dados esta muito boa, constado o outlier no grafico perto do valor de 4.0"
   ]
  },
  {
   "cell_type": "code",
   "execution_count": 78,
   "id": "a91d2404-e41a-43f5-bb98-1f4389230215",
   "metadata": {},
   "outputs": [
    {
     "data": {
      "image/png": "[encoded data removed]",
      "text/plain": [
       "<Figure size 1000x600 with 1 Axes>"
      ]
     },
     "metadata": {},
     "output_type": "display_data"
    }
   ],
   "source": [
    "sns.set_style('darkgrid')\n",
    "\n",
    "# Plotando um histograma dos salários para analisarmos a distribuição dos dados\n",
    "plt.figure(figsize=(10, 6))\n",
    "sns.histplot(data=df, x='Salario_Anual', bins=20, kde=True, color='skyblue')\n",
    "plt.title('Histograma da Coluna de Salário')\n",
    "plt.xlabel('Salario_Anual')\n",
    "plt.ylabel('Contagem')\n",
    "plt.show()"
   ]
  },
  {
   "cell_type": "code",
   "execution_count": 80,
   "id": "39a48860-c838-43cb-a39b-5c6cb2a7cb0b",
   "metadata": {},
   "outputs": [
    {
     "data": {
      "text/plain": [
       "1011687.0"
      ]
     },
     "execution_count": 80,
     "metadata": {},
     "output_type": "execute_result"
    }
   ],
   "source": [
    "# retirando o outlier \n",
    "salario_abaixo_2m = df[df['Salario_Anual'] < 2000000]\n",
    "salario_abaixo_2m['Salario_Anual'].median()"
   ]
  },
  {
   "cell_type": "markdown",
   "id": "7c643485-73fb-4d5b-b9f4-5d54c518de10",
   "metadata": {},
   "source": [
    "comparado com a mediana anterior não teve muita interferencia o tratamento"
   ]
  },
  {
   "cell_type": "code",
   "execution_count": 90,
   "id": "dd7a774f-3f8e-451b-8638-1e0f0baab047",
   "metadata": {},
   "outputs": [],
   "source": [
    "mediana_salario_abaixo_2milhoes = df[df['Salario_Anual'] < 2000000]['Salario_Anual'].median()\n",
    "# Substitui os valores faltantes na coluna de salário pela mediana\n",
    "df['Salario_Anual'] = df['Salario_Anual'].fillna(mediana_salario_abaixo_2milhoes)"
   ]
  },
  {
   "cell_type": "code",
   "execution_count": 92,
   "id": "ce3ae951-b265-406f-8d4a-1b408b42745f",
   "metadata": {},
   "outputs": [
    {
     "data": {
      "text/plain": [
       "0"
      ]
     },
     "execution_count": 92,
     "metadata": {},
     "output_type": "execute_result"
    }
   ],
   "source": [
    "df['Salario_Anual'].isnull().sum()"
   ]
  },
  {
   "cell_type": "code",
   "execution_count": 94,
   "id": "1053f914-2f2f-43d8-b553-81dbc049b276",
   "metadata": {},
   "outputs": [
    {
     "data": {
      "text/plain": [
       "1011687.0"
      ]
     },
     "execution_count": 94,
     "metadata": {},
     "output_type": "execute_result"
    }
   ],
   "source": [
    "salario_abaixo_2m['Salario_Anual'].median()"
   ]
  },
  {
   "cell_type": "markdown",
   "id": "cf97ff40-3e36-419a-9d39-610fbbcdb571",
   "metadata": {},
   "source": [
    "inicio da verificação do churn "
   ]
  },
  {
   "cell_type": "code",
   "execution_count": 96,
   "id": "82986c0f-1bfc-420e-a4f8-aead7d881669",
   "metadata": {},
   "outputs": [
    {
     "data": {
      "text/plain": [
       "<Axes: xlabel='Churn', ylabel='Count'>"
      ]
     },
     "execution_count": 96,
     "metadata": {},
     "output_type": "execute_result"
    },
    {
     "data": {
      "image/png": "[encoded data removed]",
      "text/plain": [
       "<Figure size 1000x600 with 1 Axes>"
      ]
     },
     "metadata": {},
     "output_type": "display_data"
    }
   ],
   "source": [
    "plt.figure(figsize=(10, 6))\n",
    "sns.histplot(data=df, x='Churn', bins=20, kde=True, color='skyblue')"
   ]
  },
  {
   "cell_type": "markdown",
   "id": "6c5c62f1-f154-4290-b908-bbc63fcd0e29",
   "metadata": {},
   "source": [
    "dados com 0 não é churn e 1 é churn, valor de churn e bem baixo."
   ]
  },
  {
   "cell_type": "code",
   "execution_count": 98,
   "id": "192c5895-3b93-4ee1-a4f0-b53e53921214",
   "metadata": {},
   "outputs": [
    {
     "data": {
      "text/plain": [
       "Churn\n",
       "0.0    78.854254\n",
       "1.0    21.145746\n",
       "Name: proportion, dtype: float64"
      ]
     },
     "execution_count": 98,
     "metadata": {},
     "output_type": "execute_result"
    }
   ],
   "source": [
    "# Verificar a porcentagem de cada um \n",
    "df['Churn'].value_counts(normalize=True) * 100"
   ]
  },
  {
   "cell_type": "code",
   "execution_count": 100,
   "id": "83e925ed-d807-4fe4-8cce-3fa8c5bcf12b",
   "metadata": {},
   "outputs": [
    {
     "data": {
      "image/png": "[encoded data removed]",
      "text/plain": [
       "<Figure size 1000x600 with 1 Axes>"
      ]
     },
     "metadata": {},
     "output_type": "display_data"
    }
   ],
   "source": [
    "# Seleciona todas as linhas onde a coluna 'Churn' é nula\n",
    "df_churn_nulo = df[df['Churn'].isnull()]\n",
    "\n",
    "# Plotando a distribuição dos paises\n",
    "plt.figure(figsize=(10, 6))\n",
    "sns.countplot(data=df_churn_nulo, x='Pais')\n",
    "plt.title('Distribuição da Coluna \"Pais\" para Churn Nulo')\n",
    "plt.xlabel('Pais')\n",
    "plt.ylabel('Contagem')\n",
    "plt.xticks(rotation=45)\n",
    "plt.show()"
   ]
  },
  {
   "cell_type": "markdown",
   "id": "f64c04b1-4108-4793-8fa6-e347e2843882",
   "metadata": {},
   "source": [
    "Spain tem maior valor de nulo e France"
   ]
  },
  {
   "cell_type": "code",
   "execution_count": 102,
   "id": "6fb6e665-50e1-4ea2-9810-0105f28a5a94",
   "metadata": {},
   "outputs": [
    {
     "data": {
      "image/png": "[encoded data removed]",
      "text/plain": [
       "<Figure size 1000x600 with 1 Axes>"
      ]
     },
     "metadata": {},
     "output_type": "display_data"
    }
   ],
   "source": [
    "plt.figure(figsize=(10, 6))\n",
    "sns.countplot(data=df, x='Pais')\n",
    "plt.title('Distribuição da Coluna \"Pais\" para todo df')\n",
    "plt.xlabel('Pais')\n",
    "plt.ylabel('Contagem')\n",
    "plt.xticks(rotation=45)\n",
    "plt.show()"
   ]
  },
  {
   "cell_type": "markdown",
   "id": "c6443d70-a54b-4588-b7a2-d430453e8634",
   "metadata": {},
   "source": [
    "o valor spain de dados de Churn comparados ao outros não vai afetar os dados "
   ]
  },
  {
   "cell_type": "code",
   "execution_count": 104,
   "id": "f413548c-3137-4c16-a00d-25472c052752",
   "metadata": {},
   "outputs": [],
   "source": [
    "df.dropna(subset=['Churn'], inplace=True)"
   ]
  },
  {
   "cell_type": "code",
   "execution_count": 106,
   "id": "cfcdf4dd-827b-4a9a-867a-c424172bc040",
   "metadata": {},
   "outputs": [
    {
     "data": {
      "text/plain": [
       "0"
      ]
     },
     "execution_count": 106,
     "metadata": {},
     "output_type": "execute_result"
    }
   ],
   "source": [
    "df['Churn'].isnull().sum()"
   ]
  },
  {
   "cell_type": "code",
   "execution_count": 108,
   "id": "73108a9d-1464-4c6d-8763-e581a90dbdb9",
   "metadata": {},
   "outputs": [
    {
     "data": {
      "text/plain": [
       "CustomerId       0\n",
       "Sobrenome        0\n",
       "Credit_Score     0\n",
       "Pais             0\n",
       "Genero           0\n",
       "Idade            0\n",
       "Tempo_Credito    0\n",
       "Balance          0\n",
       "Qtd_Produtos     0\n",
       "Possui_Cartao    0\n",
       "Membro_Ativo     0\n",
       "Salario_Anual    0\n",
       "Churn            0\n",
       "dtype: int64"
      ]
     },
     "execution_count": 108,
     "metadata": {},
     "output_type": "execute_result"
    }
   ],
   "source": [
    "df.isnull().sum()"
   ]
  },
  {
   "cell_type": "markdown",
   "id": "bc8f1c7d-947d-4c34-bc82-a50497cb41e6",
   "metadata": {},
   "source": [
    "Ajuste de erros de digitação e alteração de nomes"
   ]
  },
  {
   "cell_type": "code",
   "execution_count": 110,
   "id": "d8653eda-2b11-4ed0-abb6-8b663594f088",
   "metadata": {},
   "outputs": [],
   "source": [
    "df.rename(columns={'Balance': 'Balanco'},inplace=True)"
   ]
  },
  {
   "cell_type": "code",
   "execution_count": 112,
   "id": "0afb9a68-aee6-4865-9afc-bb6ef3a2f406",
   "metadata": {},
   "outputs": [
    {
     "data": {
      "text/html": [
       "<div>\n",
       "<style scoped>\n",
       "    .dataframe tbody tr th:only-of-type {\n",
       "        vertical-align: middle;\n",
       "    }\n",
       "\n",
       "    .dataframe tbody tr th {\n",
       "        vertical-align: top;\n",
       "    }\n",
       "\n",
       "    .dataframe thead th {\n",
       "        text-align: right;\n",
       "    }\n",
       "</style>\n",
       "<table border=\"1\" class=\"dataframe\">\n",
       "  <thead>\n",
       "    <tr style=\"text-align: right;\">\n",
       "      <th></th>\n",
       "      <th>CustomerId</th>\n",
       "      <th>Sobrenome</th>\n",
       "      <th>Credit_Score</th>\n",
       "      <th>Pais</th>\n",
       "      <th>Genero</th>\n",
       "      <th>Idade</th>\n",
       "      <th>Tempo_Credito</th>\n",
       "      <th>Balanco</th>\n",
       "      <th>Qtd_Produtos</th>\n",
       "      <th>Possui_Cartao</th>\n",
       "      <th>Membro_Ativo</th>\n",
       "      <th>Salario_Anual</th>\n",
       "      <th>Churn</th>\n",
       "    </tr>\n",
       "  </thead>\n",
       "  <tbody>\n",
       "    <tr>\n",
       "      <th>0</th>\n",
       "      <td>15813451</td>\n",
       "      <td>Fleetwood-Smith</td>\n",
       "      <td>677</td>\n",
       "      <td>Spain</td>\n",
       "      <td>Male</td>\n",
       "      <td>18.0</td>\n",
       "      <td>5</td>\n",
       "      <td>134796.87</td>\n",
       "      <td>2</td>\n",
       "      <td>1.0</td>\n",
       "      <td>0.0</td>\n",
       "      <td>1011687.0</td>\n",
       "      <td>0.0</td>\n",
       "    </tr>\n",
       "    <tr>\n",
       "      <th>1</th>\n",
       "      <td>15641688</td>\n",
       "      <td>Collier</td>\n",
       "      <td>644</td>\n",
       "      <td>Spain</td>\n",
       "      <td>Female</td>\n",
       "      <td>18.0</td>\n",
       "      <td>7</td>\n",
       "      <td>0.00</td>\n",
       "      <td>1</td>\n",
       "      <td>0.0</td>\n",
       "      <td>1.0</td>\n",
       "      <td>1011687.0</td>\n",
       "      <td>0.0</td>\n",
       "    </tr>\n",
       "    <tr>\n",
       "      <th>2</th>\n",
       "      <td>15757821</td>\n",
       "      <td>Burgess</td>\n",
       "      <td>641</td>\n",
       "      <td>Spain</td>\n",
       "      <td>Male</td>\n",
       "      <td>18.0</td>\n",
       "      <td>1</td>\n",
       "      <td>0.00</td>\n",
       "      <td>2</td>\n",
       "      <td>0.0</td>\n",
       "      <td>1.0</td>\n",
       "      <td>1011687.0</td>\n",
       "      <td>0.0</td>\n",
       "    </tr>\n",
       "    <tr>\n",
       "      <th>3</th>\n",
       "      <td>15673180</td>\n",
       "      <td>Onyekaozulu</td>\n",
       "      <td>826</td>\n",
       "      <td>Spain</td>\n",
       "      <td>Male</td>\n",
       "      <td>18.0</td>\n",
       "      <td>2</td>\n",
       "      <td>0.00</td>\n",
       "      <td>2</td>\n",
       "      <td>0.0</td>\n",
       "      <td>1.0</td>\n",
       "      <td>1011687.0</td>\n",
       "      <td>0.0</td>\n",
       "    </tr>\n",
       "    <tr>\n",
       "      <th>4</th>\n",
       "      <td>15664543</td>\n",
       "      <td>Tuan</td>\n",
       "      <td>774</td>\n",
       "      <td>Spain</td>\n",
       "      <td>Female</td>\n",
       "      <td>18.0</td>\n",
       "      <td>1</td>\n",
       "      <td>185891.54</td>\n",
       "      <td>1</td>\n",
       "      <td>1.0</td>\n",
       "      <td>0.0</td>\n",
       "      <td>1011687.0</td>\n",
       "      <td>0.0</td>\n",
       "    </tr>\n",
       "  </tbody>\n",
       "</table>\n",
       "</div>"
      ],
      "text/plain": [
       "   CustomerId        Sobrenome  Credit_Score   Pais  Genero  Idade  \\\n",
       "0    15813451  Fleetwood-Smith           677  Spain    Male   18.0   \n",
       "1    15641688          Collier           644  Spain  Female   18.0   \n",
       "2    15757821          Burgess           641  Spain    Male   18.0   \n",
       "3    15673180      Onyekaozulu           826  Spain    Male   18.0   \n",
       "4    15664543             Tuan           774  Spain  Female   18.0   \n",
       "\n",
       "   Tempo_Credito    Balanco  Qtd_Produtos  Possui_Cartao  Membro_Ativo  \\\n",
       "0              5  134796.87             2            1.0           0.0   \n",
       "1              7       0.00             1            0.0           1.0   \n",
       "2              1       0.00             2            0.0           1.0   \n",
       "3              2       0.00             2            0.0           1.0   \n",
       "4              1  185891.54             1            1.0           0.0   \n",
       "\n",
       "   Salario_Anual  Churn  \n",
       "0      1011687.0    0.0  \n",
       "1      1011687.0    0.0  \n",
       "2      1011687.0    0.0  \n",
       "3      1011687.0    0.0  \n",
       "4      1011687.0    0.0  "
      ]
     },
     "execution_count": 112,
     "metadata": {},
     "output_type": "execute_result"
    }
   ],
   "source": [
    "df.head()"
   ]
  },
  {
   "cell_type": "code",
   "execution_count": 114,
   "id": "b194a3c1-74a8-44d2-b626-39cc425b0365",
   "metadata": {},
   "outputs": [
    {
     "data": {
      "text/plain": [
       "array(['Spain', 'SPAIN', 'Germany', 'Germani', 'France'], dtype=object)"
      ]
     },
     "execution_count": 114,
     "metadata": {},
     "output_type": "execute_result"
    }
   ],
   "source": [
    "df['Pais'].unique()"
   ]
  },
  {
   "cell_type": "code",
   "execution_count": 116,
   "id": "7e6f48ae-b45c-42ff-a9ce-cf94bccfa9fa",
   "metadata": {},
   "outputs": [],
   "source": [
    "df['Pais']=df['Pais'].str.upper()"
   ]
  },
  {
   "cell_type": "code",
   "execution_count": 118,
   "id": "e6595e3a-281b-46f8-9e4e-f00f80e323b2",
   "metadata": {},
   "outputs": [
    {
     "data": {
      "text/plain": [
       "array(['SPAIN', 'GERMANY', 'GERMANI', 'FRANCE'], dtype=object)"
      ]
     },
     "execution_count": 118,
     "metadata": {},
     "output_type": "execute_result"
    }
   ],
   "source": [
    "df['Pais'].unique()"
   ]
  },
  {
   "cell_type": "code",
   "execution_count": 120,
   "id": "f4530946-c274-4b37-874c-0d689494654c",
   "metadata": {},
   "outputs": [],
   "source": [
    "df['Pais'] = df['Pais'].replace('GERMANI','GERMANY')"
   ]
  },
  {
   "cell_type": "code",
   "execution_count": 122,
   "id": "41e1ac2e-50cf-4e71-b57e-2f818eb360a1",
   "metadata": {},
   "outputs": [
    {
     "data": {
      "text/plain": [
       "array(['SPAIN', 'GERMANY', 'FRANCE'], dtype=object)"
      ]
     },
     "execution_count": 122,
     "metadata": {},
     "output_type": "execute_result"
    }
   ],
   "source": [
    "df['Pais'].unique()\n"
   ]
  },
  {
   "cell_type": "code",
   "execution_count": 124,
   "id": "a9b83116-4aa0-4873-9dc5-35e9fc187289",
   "metadata": {},
   "outputs": [
    {
     "data": {
      "text/plain": [
       "array(['Male', 'Female'], dtype=object)"
      ]
     },
     "execution_count": 124,
     "metadata": {},
     "output_type": "execute_result"
    }
   ],
   "source": [
    "df['Genero'].unique()"
   ]
  },
  {
   "cell_type": "markdown",
   "id": "e70f8c15-3e20-499d-9fb9-33f0bb982beb",
   "metadata": {},
   "source": [
    "retirar colunas que não vao ser utilizada para manter integridade da LGPD\n"
   ]
  },
  {
   "cell_type": "code",
   "execution_count": 129,
   "id": "89b387f5-2d64-4f07-bc9b-02ebeed0c431",
   "metadata": {},
   "outputs": [],
   "source": [
    "df.drop(columns=['Sobrenome'], inplace=True)"
   ]
  },
  {
   "cell_type": "code",
   "execution_count": 131,
   "id": "432ff9b4-4b01-4574-8ba7-9c3a29b0488c",
   "metadata": {},
   "outputs": [],
   "source": [
    "df.drop(columns=['CustomerId'],inplace=True)"
   ]
  }
 ],
 "metadata": {
  "kernelspec": {
   "display_name": "Python [conda env:base] *",
   "language": "python",
   "name": "conda-base-py"
  },
  "language_info": {
   "codemirror_mode": {
    "name": "ipython",
    "version": 3
   },
   "file_extension": ".py",
   "mimetype": "text/x-python",
   "name": "python",
   "nbconvert_exporter": "python",
   "pygments_lexer": "ipython3",
   "version": "3.12.7"
  }
 },
 "nbformat": 4,
 "nbformat_minor": 5
}

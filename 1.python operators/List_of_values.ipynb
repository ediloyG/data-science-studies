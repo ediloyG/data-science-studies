{
  "nbformat": 4,
  "nbformat_minor": 0,
  "metadata": {
    "colab": {
      "provenance": []
    },
    "kernelspec": {
      "name": "python3",
      "display_name": "Python 3"
    },
    "language_info": {
      "name": "python"
    }
  },
  "cells": [
    {
      "cell_type": "markdown",
      "source": [
        "## Lista, tuplas e dicionários"
      ],
      "metadata": {
        "id": "1n1mjUvMBdQQ"
      }
    },
    {
      "cell_type": "markdown",
      "source": [
        "##Lista"
      ],
      "metadata": {
        "id": "GHQ8uWjWF468"
      }
    },
    {
      "cell_type": "code",
      "execution_count": null,
      "metadata": {
        "colab": {
          "base_uri": "https://localhost:8080/"
        },
        "id": "6CwFKakN_cS4",
        "outputId": "d695a40b-586a-40d0-e3d8-64c45cec2e2f"
      },
      "outputs": [
        {
          "output_type": "stream",
          "name": "stdout",
          "text": [
            "[1, 2, 3, 4]\n"
          ]
        }
      ],
      "source": [
        "# Lista pode ser colocado qualquer informação de tipo real, string e float\n",
        "# Utiliza []\n",
        "\n",
        "lista = [1,2,3,4]\n",
        "print(lista)"
      ]
    },
    {
      "cell_type": "code",
      "source": [
        "lista = [1,'Rogerio',10.5]\n",
        "print(lista)"
      ],
      "metadata": {
        "colab": {
          "base_uri": "https://localhost:8080/"
        },
        "id": "ADDKjWUmCcZC",
        "outputId": "f4656c6e-2340-4f2b-af9d-0a12edef38c0"
      },
      "execution_count": null,
      "outputs": [
        {
          "output_type": "stream",
          "name": "stdout",
          "text": [
            "[1, 'Rogerio', 10.5]\n"
          ]
        }
      ]
    },
    {
      "cell_type": "code",
      "source": [
        "# para adicionar mais uma informação na lista utilizar append, sempre no final da lista.\n",
        "\n",
        "lista.append('Rogerinho')\n",
        "print(lista)"
      ],
      "metadata": {
        "colab": {
          "base_uri": "https://localhost:8080/"
        },
        "id": "fKsbiZK0CtTk",
        "outputId": "980e9dc5-b53c-44bb-9d2e-79402db608ab"
      },
      "execution_count": null,
      "outputs": [
        {
          "output_type": "stream",
          "name": "stdout",
          "text": [
            "[1, 'Rogerio', 10.5, 'Rogerinho']\n"
          ]
        }
      ]
    },
    {
      "cell_type": "code",
      "source": [
        "#cada campo da lista e representado por 0,1,2 respectivamente, sempre começando do numero 0\n",
        "print(lista[0])\n",
        "print(lista[1])\n",
        "print(lista[2])\n",
        "print(lista[3])"
      ],
      "metadata": {
        "id": "nLGRgiqZDFfS",
        "colab": {
          "base_uri": "https://localhost:8080/"
        },
        "outputId": "f4fb28c4-2e78-4e84-8bfd-1a950ba43a59"
      },
      "execution_count": 8,
      "outputs": [
        {
          "output_type": "stream",
          "name": "stdout",
          "text": [
            "1\n",
            "Rogerio\n",
            "10.5\n",
            "Rogerinho\n"
          ]
        }
      ]
    },
    {
      "cell_type": "markdown",
      "source": [
        "###Tupla\n"
      ],
      "metadata": {
        "id": "a2uZbZbsF7RB"
      }
    },
    {
      "cell_type": "code",
      "source": [
        "# Tuplas diferente da lista ela não pode ser modificadas\n",
        "# Utiliza ()\n",
        "\n",
        "tupla = (1,2,3,4)\n",
        "print(tupla)\n",
        "\n",
        "tupla.append('Rogerinho') #vai presenta erro pois não se usa append em tupla\n",
        "print(tupla)\n",
        "\n"
      ],
      "metadata": {
        "colab": {
          "base_uri": "https://localhost:8080/",
          "height": 228
        },
        "id": "ENQY-tpVEj8R",
        "outputId": "f2d3b40e-db05-4b8e-c8b7-e494a93d71b6"
      },
      "execution_count": 13,
      "outputs": [
        {
          "output_type": "stream",
          "name": "stdout",
          "text": [
            "(1, 2, 3, 4)\n"
          ]
        },
        {
          "output_type": "error",
          "ename": "AttributeError",
          "evalue": "'tuple' object has no attribute 'append'",
          "traceback": [
            "\u001b[0;31m---------------------------------------------------------------------------\u001b[0m",
            "\u001b[0;31mAttributeError\u001b[0m                            Traceback (most recent call last)",
            "\u001b[0;32m<ipython-input-13-ddf400293253>\u001b[0m in \u001b[0;36m<cell line: 0>\u001b[0;34m()\u001b[0m\n\u001b[1;32m      5\u001b[0m \u001b[0mprint\u001b[0m\u001b[0;34m(\u001b[0m\u001b[0mtupla\u001b[0m\u001b[0;34m)\u001b[0m\u001b[0;34m\u001b[0m\u001b[0;34m\u001b[0m\u001b[0m\n\u001b[1;32m      6\u001b[0m \u001b[0;34m\u001b[0m\u001b[0m\n\u001b[0;32m----> 7\u001b[0;31m \u001b[0mtupla\u001b[0m\u001b[0;34m.\u001b[0m\u001b[0mappend\u001b[0m\u001b[0;34m(\u001b[0m\u001b[0;34m'Rogerinho'\u001b[0m\u001b[0;34m)\u001b[0m \u001b[0;31m#vai presenta erro pois não se usa append em tupla\u001b[0m\u001b[0;34m\u001b[0m\u001b[0;34m\u001b[0m\u001b[0m\n\u001b[0m\u001b[1;32m      8\u001b[0m \u001b[0mprint\u001b[0m\u001b[0;34m(\u001b[0m\u001b[0mtupla\u001b[0m\u001b[0;34m)\u001b[0m\u001b[0;34m\u001b[0m\u001b[0;34m\u001b[0m\u001b[0m\n\u001b[1;32m      9\u001b[0m \u001b[0;34m\u001b[0m\u001b[0m\n",
            "\u001b[0;31mAttributeError\u001b[0m: 'tuple' object has no attribute 'append'"
          ]
        }
      ]
    },
    {
      "cell_type": "markdown",
      "source": [
        "###Dicionario"
      ],
      "metadata": {
        "id": "hevSSY10F9pM"
      }
    },
    {
      "cell_type": "code",
      "source": [
        "# Dicionario são acompanhados chave e valor juntos,as chaves são imutaveis.\n",
        "# chaves sao como tabelas e valoes pode mudar.\n",
        "# usa {}\n",
        "\n",
        "dicionario = {'nome':'Rogerio','idade':27}\n",
        "print(dicionario)"
      ],
      "metadata": {
        "colab": {
          "base_uri": "https://localhost:8080/"
        },
        "id": "SkdjmO8qFAID",
        "outputId": "d6818bca-9616-4e66-9506-d0fc28571e7f"
      },
      "execution_count": 14,
      "outputs": [
        {
          "output_type": "stream",
          "name": "stdout",
          "text": [
            "{'nome': 'Rogerio', 'idade': 27}\n"
          ]
        }
      ]
    }
  ]
}
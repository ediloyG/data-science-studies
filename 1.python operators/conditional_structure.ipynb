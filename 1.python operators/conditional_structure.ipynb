{
  "nbformat": 4,
  "nbformat_minor": 0,
  "metadata": {
    "colab": {
      "provenance": []
    },
    "kernelspec": {
      "name": "python3",
      "display_name": "Python 3"
    },
    "language_info": {
      "name": "python"
    }
  },
  "cells": [
    {
      "cell_type": "markdown",
      "source": [
        "## Condicionais  "
      ],
      "metadata": {
        "id": "arE5J3Je1vXO"
      }
    },
    {
      "cell_type": "code",
      "execution_count": 2,
      "metadata": {
        "id": "XmcODnDUtF6R"
      },
      "outputs": [],
      "source": [
        "# para estrutura de descinções se utiliza IF para se um valor verdadeiro avançar no codigo.\n",
        "\n",
        "if 5 > 10:\n",
        "  print('verdade')\n",
        "\n"
      ]
    },
    {
      "cell_type": "code",
      "source": [
        "# mas se afirmação não foi atendida não vai ser impressor o que esta dentro da condição\n",
        "# se faz o uso do ELSE\n",
        "\n",
        "if 5 > 10:\n",
        "  print('verdade')\n",
        "else:\n",
        "  print('falso')"
      ],
      "metadata": {
        "colab": {
          "base_uri": "https://localhost:8080/"
        },
        "id": "fslJBvh377DA",
        "outputId": "963e7db0-5670-43b8-f524-8b63e5cf9492"
      },
      "execution_count": 3,
      "outputs": [
        {
          "output_type": "stream",
          "name": "stdout",
          "text": [
            "falso\n"
          ]
        }
      ]
    },
    {
      "cell_type": "code",
      "source": [
        "# elif se caso queria colocar outra condição no meio para outra condição.\n",
        "num1 = 10\n",
        "num2 = 20\n",
        "\n",
        "if num1 > num2:\n",
        "  print('num1 é maior que num2')\n",
        "elif num1 < num2:\n",
        "  print('num2 é maior que num1')\n",
        "else:\n",
        "  print('num1 e num2 são iguais')"
      ],
      "metadata": {
        "id": "cHCuNHs38QK-"
      },
      "execution_count": null,
      "outputs": []
    },
    {
      "cell_type": "markdown",
      "source": [
        "## Condicional com operadores Lógicos\n"
      ],
      "metadata": {
        "id": "wllpr5zg8vU3"
      }
    },
    {
      "cell_type": "code",
      "source": [
        "# operadores lógicos pode serem utilizado no IF para comparar duas informações\n",
        "\n",
        "num1 = 10\n",
        "num2 = 20\n",
        "\n",
        "if num1 > num2 and num1 != num2:\n",
        "  print('num1 é maior que num2')\n",
        "elif num1 < num2 or num1 == num2:\n",
        "  print('num2 é maior que num1')"
      ],
      "metadata": {
        "colab": {
          "base_uri": "https://localhost:8080/"
        },
        "id": "rf6AlE5N81J6",
        "outputId": "44957e37-613d-4e0c-ee6b-f380ae5b7bd3"
      },
      "execution_count": 4,
      "outputs": [
        {
          "output_type": "stream",
          "name": "stdout",
          "text": [
            "num2 é maior que num1\n"
          ]
        }
      ]
    }
  ]
}
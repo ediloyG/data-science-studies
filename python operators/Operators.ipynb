{
  "nbformat": 4,
  "nbformat_minor": 0,
  "metadata": {
    "colab": {
      "provenance": []
    },
    "kernelspec": {
      "name": "python3",
      "display_name": "Python 3"
    },
    "language_info": {
      "name": "python"
    }
  },
  "cells": [
    {
      "cell_type": "markdown",
      "source": [
        "# Operadores Aritimeticos\n"
      ],
      "metadata": {
        "id": "YUHMg3_03suB"
      }
    },
    {
      "cell_type": "code",
      "execution_count": null,
      "metadata": {
        "colab": {
          "base_uri": "https://localhost:8080/"
        },
        "id": "Lejykyqs1ypH",
        "outputId": "1f525688-3394-4af8-f205-ce73e6c24a5d"
      },
      "outputs": [
        {
          "output_type": "execute_result",
          "data": {
            "text/plain": [
              "12"
            ]
          },
          "metadata": {},
          "execution_count": 1
        }
      ],
      "source": [
        "# Adição\n",
        "10+2"
      ]
    },
    {
      "cell_type": "code",
      "source": [
        "# Subtração\n",
        "20-15"
      ],
      "metadata": {
        "colab": {
          "base_uri": "https://localhost:8080/"
        },
        "id": "VbMc7fVx2CqD",
        "outputId": "30f84988-ece7-45ac-86d3-81f943907f02"
      },
      "execution_count": null,
      "outputs": [
        {
          "output_type": "execute_result",
          "data": {
            "text/plain": [
              "5"
            ]
          },
          "metadata": {},
          "execution_count": 2
        }
      ]
    },
    {
      "cell_type": "code",
      "source": [
        "# Multiplicação\n",
        "255*32"
      ],
      "metadata": {
        "colab": {
          "base_uri": "https://localhost:8080/"
        },
        "id": "5X5s7KoZ2Vvn",
        "outputId": "dee8b5eb-bc91-46a4-854a-6d8ed7574cee"
      },
      "execution_count": null,
      "outputs": [
        {
          "output_type": "execute_result",
          "data": {
            "text/plain": [
              "8160"
            ]
          },
          "metadata": {},
          "execution_count": 3
        }
      ]
    },
    {
      "cell_type": "code",
      "source": [
        "# Divisão\n",
        "255/7"
      ],
      "metadata": {
        "colab": {
          "base_uri": "https://localhost:8080/"
        },
        "id": "eMyQ1_Qe22uH",
        "outputId": "1e81c458-832f-4911-f5bf-fe4b51e5899e"
      },
      "execution_count": null,
      "outputs": [
        {
          "output_type": "execute_result",
          "data": {
            "text/plain": [
              "36.42857142857143"
            ]
          },
          "metadata": {},
          "execution_count": 4
        }
      ]
    },
    {
      "cell_type": "code",
      "source": [
        "# Divisão inteira\n",
        "255//7"
      ],
      "metadata": {
        "colab": {
          "base_uri": "https://localhost:8080/"
        },
        "id": "TBWaPhD33Jq_",
        "outputId": "1cc9a92d-4683-4269-8af3-9eda6e0abee2"
      },
      "execution_count": null,
      "outputs": [
        {
          "output_type": "execute_result",
          "data": {
            "text/plain": [
              "36"
            ]
          },
          "metadata": {},
          "execution_count": 6
        }
      ]
    },
    {
      "cell_type": "code",
      "source": [
        "# Resto de divisão\n",
        "255%7"
      ],
      "metadata": {
        "colab": {
          "base_uri": "https://localhost:8080/"
        },
        "id": "bjv3OeST3dh0",
        "outputId": "e72ab193-a50a-44b8-a92a-92f8d67ba681"
      },
      "execution_count": null,
      "outputs": [
        {
          "output_type": "execute_result",
          "data": {
            "text/plain": [
              "3"
            ]
          },
          "metadata": {},
          "execution_count": 8
        }
      ]
    },
    {
      "cell_type": "code",
      "source": [
        "# Potenciação\n",
        "2**2"
      ],
      "metadata": {
        "colab": {
          "base_uri": "https://localhost:8080/"
        },
        "id": "fAd-ies83TYG",
        "outputId": "1ab16727-225c-4c47-c77f-d1f49d21edd9"
      },
      "execution_count": null,
      "outputs": [
        {
          "output_type": "execute_result",
          "data": {
            "text/plain": [
              "4"
            ]
          },
          "metadata": {},
          "execution_count": 7
        }
      ]
    },
    {
      "cell_type": "markdown",
      "source": [
        "# Operadores Relacionais\n"
      ],
      "metadata": {
        "id": "_aLQdfH23745"
      }
    },
    {
      "cell_type": "code",
      "source": [
        "# Menor\n",
        "10 < 2"
      ],
      "metadata": {
        "colab": {
          "base_uri": "https://localhost:8080/"
        },
        "id": "_5js_PDD4Isg",
        "outputId": "962364d7-600f-4bcd-a408-76478e501021"
      },
      "execution_count": null,
      "outputs": [
        {
          "output_type": "execute_result",
          "data": {
            "text/plain": [
              "False"
            ]
          },
          "metadata": {},
          "execution_count": 11
        }
      ]
    },
    {
      "cell_type": "code",
      "source": [
        "# Maior\n",
        "10 > 2"
      ],
      "metadata": {
        "colab": {
          "base_uri": "https://localhost:8080/"
        },
        "id": "eMzhdk6n4V4k",
        "outputId": "421d1a7b-28bc-4f34-86ef-ebd7796c401b"
      },
      "execution_count": null,
      "outputs": [
        {
          "output_type": "execute_result",
          "data": {
            "text/plain": [
              "True"
            ]
          },
          "metadata": {},
          "execution_count": 12
        }
      ]
    },
    {
      "cell_type": "code",
      "source": [
        "# Maior ou igual\n",
        "10 <= 2"
      ],
      "metadata": {
        "colab": {
          "base_uri": "https://localhost:8080/"
        },
        "id": "Drs0I3Ap4Z3k",
        "outputId": "6c2dc1eb-34d4-4a27-f91b-5451f53becad"
      },
      "execution_count": null,
      "outputs": [
        {
          "output_type": "execute_result",
          "data": {
            "text/plain": [
              "False"
            ]
          },
          "metadata": {},
          "execution_count": 16
        }
      ]
    },
    {
      "cell_type": "code",
      "source": [
        "# Igual\n",
        "7 == 7"
      ],
      "metadata": {
        "colab": {
          "base_uri": "https://localhost:8080/"
        },
        "id": "RH7tbdJm4sFE",
        "outputId": "73f3d556-7551-4038-d698-c2c183d13b03"
      },
      "execution_count": null,
      "outputs": [
        {
          "output_type": "execute_result",
          "data": {
            "text/plain": [
              "True"
            ]
          },
          "metadata": {},
          "execution_count": 17
        }
      ]
    },
    {
      "cell_type": "code",
      "source": [
        "# Diferente\n",
        "7 !=7"
      ],
      "metadata": {
        "colab": {
          "base_uri": "https://localhost:8080/"
        },
        "id": "Oe4Tsi6R4woU",
        "outputId": "4b9bfcbe-5d0f-4a4f-84e4-72b9248dcc37"
      },
      "execution_count": null,
      "outputs": [
        {
          "output_type": "execute_result",
          "data": {
            "text/plain": [
              "False"
            ]
          },
          "metadata": {},
          "execution_count": 18
        }
      ]
    },
    {
      "cell_type": "markdown",
      "source": [
        "# Operadores Lógicos\n",
        "\n",
        "\n",
        "*   And\n",
        "*   Or\n",
        "*   Not\n",
        "\n",
        "\n"
      ],
      "metadata": {
        "id": "iXTy8q5W4_2m"
      }
    },
    {
      "cell_type": "markdown",
      "source": [
        "### Tabela Verdade"
      ],
      "metadata": {
        "id": "8E50eIu85V79"
      }
    },
    {
      "cell_type": "markdown",
      "source": [
        "And"
      ],
      "metadata": {
        "id": "FROdcUTx9yRF"
      }
    },
    {
      "cell_type": "code",
      "source": [
        "print(10 > 2 and 4 < 6) # V and V - V\n",
        "print(10 > 2 and 4 > 6) # V and F - F\n",
        "print(10 < 2 and 4 < 6) # F and V - F\n",
        "print(10 < 2 and 4 > 6) # F and F - F\n"
      ],
      "metadata": {
        "colab": {
          "base_uri": "https://localhost:8080/"
        },
        "id": "m_ZO2rmu5aEy",
        "outputId": "52cc53c9-1196-4d4e-9e3f-2c2dbafdc243"
      },
      "execution_count": null,
      "outputs": [
        {
          "output_type": "stream",
          "name": "stdout",
          "text": [
            "True\n",
            "False\n",
            "False\n",
            "False\n"
          ]
        }
      ]
    },
    {
      "cell_type": "markdown",
      "source": [
        "Or"
      ],
      "metadata": {
        "id": "oTzVbNCs_5fl"
      }
    },
    {
      "cell_type": "code",
      "source": [
        "print(10 > 2 or 4 < 6) # V or V - V\n",
        "print(10 > 2 or 4 > 6) # V or F - V\n",
        "print(10 < 2 or 4 < 6) # F or V - V"
      ],
      "metadata": {
        "id": "I1OvhQ3E_7V6"
      },
      "execution_count": null,
      "outputs": []
    },
    {
      "cell_type": "markdown",
      "source": [
        "Not"
      ],
      "metadata": {
        "id": "M--RPDAQ900c"
      }
    },
    {
      "cell_type": "code",
      "source": [
        "not 10 > 2 # v - f"
      ],
      "metadata": {
        "colab": {
          "base_uri": "https://localhost:8080/"
        },
        "id": "_0gXiw8B_TMY",
        "outputId": "92b0ce82-b451-4d8e-9a1c-51bcd0875e33"
      },
      "execution_count": null,
      "outputs": [
        {
          "output_type": "execute_result",
          "data": {
            "text/plain": [
              "False"
            ]
          },
          "metadata": {},
          "execution_count": 20
        }
      ]
    },
    {
      "cell_type": "code",
      "source": [
        "not 10 < 2 # F - v"
      ],
      "metadata": {
        "colab": {
          "base_uri": "https://localhost:8080/"
        },
        "id": "_K0aXMf-_emT",
        "outputId": "e0a8d828-112a-4a27-aa6b-db2eceac65f1"
      },
      "execution_count": null,
      "outputs": [
        {
          "output_type": "execute_result",
          "data": {
            "text/plain": [
              "True"
            ]
          },
          "metadata": {},
          "execution_count": 21
        }
      ]
    },
    {
      "cell_type": "markdown",
      "source": [
        "# Variaveis\n",
        "variaveis estão alocadas em espaços de memoria"
      ],
      "metadata": {
        "id": "I7CfI_SYAAop"
      }
    },
    {
      "cell_type": "code",
      "source": [
        "# variavel x  recebe valor de 10 em espaço de memoria\n",
        "\n",
        "x = 10\n",
        "\n",
        "print(x) # mostra o valor 10 em referencia ao x"
      ],
      "metadata": {
        "colab": {
          "base_uri": "https://localhost:8080/"
        },
        "id": "phaHrc5XA8Yk",
        "outputId": "ac87c743-50d2-401f-f10d-3e01f0f134cd"
      },
      "execution_count": null,
      "outputs": [
        {
          "output_type": "stream",
          "name": "stdout",
          "text": [
            "10\n"
          ]
        }
      ]
    },
    {
      "cell_type": "markdown",
      "source": [
        "**Case sensitive**\n",
        "\n",
        "A != a\n",
        "\n",
        "**Boas Práticas com Variáveis**\n",
        "\n",
        ">Exemplo Multiplicação  de 2 números\n",
        "\n",
        "Não usar\n",
        "\n",
        "* Multiplicação\n",
        "* MultuplicaçãoDeDoisNumeros\n",
        "* m\n",
        "\n",
        "Usar\n",
        "\n",
        "* Multiplicacao\n",
        "* Mult\n",
        "* Mult_total(snak_case)\n"
      ],
      "metadata": {
        "id": "CGzCx17zFLE0"
      }
    }
  ]
}
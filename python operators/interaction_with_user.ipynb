{
  "nbformat": 4,
  "nbformat_minor": 0,
  "metadata": {
    "colab": {
      "provenance": []
    },
    "kernelspec": {
      "name": "python3",
      "display_name": "Python 3"
    },
    "language_info": {
      "name": "python"
    }
  },
  "cells": [
    {
      "cell_type": "markdown",
      "source": [
        "# Visualiação de váriaveis e texto"
      ],
      "metadata": {
        "id": "pPE224YPbkdZ"
      }
    },
    {
      "cell_type": "code",
      "execution_count": 1,
      "metadata": {
        "colab": {
          "base_uri": "https://localhost:8080/"
        },
        "id": "RqgclgAnbeJt",
        "outputId": "9377a742-d82e-49a7-e20d-80729a98fa07"
      },
      "outputs": [
        {
          "output_type": "stream",
          "name": "stdout",
          "text": [
            "-8\n"
          ]
        }
      ],
      "source": [
        "# print para visualição de variaveis\n",
        "\n",
        "x = -8\n",
        "print(x)"
      ]
    },
    {
      "cell_type": "code",
      "source": [
        "#phyton é uma lingagem de auto nivel, não precisa declarar 'soma' como inteiro ou real\n",
        "\n",
        "y = 10\n",
        "\n",
        "soma = -x + y\n",
        "\n",
        "print(soma)"
      ],
      "metadata": {
        "id": "EN7ijRFQnCma"
      },
      "execution_count": null,
      "outputs": []
    },
    {
      "cell_type": "code",
      "source": [
        "# mesmo se aplica para variaveis de string\n",
        "\n",
        "nome = 'Joaquin da silva'\n",
        "print(nome)"
      ],
      "metadata": {
        "colab": {
          "base_uri": "https://localhost:8080/"
        },
        "id": "VnEszRpTnDTJ",
        "outputId": "fc3944f7-a6ba-49bd-9778-477bb0dee642"
      },
      "execution_count": 4,
      "outputs": [
        {
          "output_type": "stream",
          "name": "stdout",
          "text": [
            "Joaquin da silva\n"
          ]
        }
      ]
    },
    {
      "cell_type": "markdown",
      "source": [
        "### Contatenação"
      ],
      "metadata": {
        "id": "QhRlmpf2ngZA"
      }
    },
    {
      "cell_type": "code",
      "source": [
        "x = 10\n",
        "\n",
        "print('valor de x é:',x)"
      ],
      "metadata": {
        "colab": {
          "base_uri": "https://localhost:8080/"
        },
        "id": "qmkVb_5Pnl8f",
        "outputId": "7bbf3f57-00d0-4ec0-e215-b4c44e3a14a7"
      },
      "execution_count": 5,
      "outputs": [
        {
          "output_type": "stream",
          "name": "stdout",
          "text": [
            "valor de x é: 10\n"
          ]
        }
      ]
    },
    {
      "cell_type": "code",
      "source": [
        "# é possivel manipular o valor da variavel na contatenação\n",
        "\n",
        "print('valor de x ao dobro é:',x*2)"
      ],
      "metadata": {
        "colab": {
          "base_uri": "https://localhost:8080/"
        },
        "id": "oYFJ4cFPn8dM",
        "outputId": "8ab979ae-36a9-4d9c-e186-f3acda3fadfe"
      },
      "execution_count": 7,
      "outputs": [
        {
          "output_type": "stream",
          "name": "stdout",
          "text": [
            "valor de x é: 20\n"
          ]
        }
      ]
    },
    {
      "cell_type": "code",
      "source": [
        "# na mesma linha é possivel contatenar mais de uma variavel\n",
        "\n",
        "print('o ',nome,'é nota',x)\n"
      ],
      "metadata": {
        "colab": {
          "base_uri": "https://localhost:8080/"
        },
        "id": "wvKLbhPYoXdi",
        "outputId": "6d5e6749-9512-4323-b09b-382afb035ca3"
      },
      "execution_count": 8,
      "outputs": [
        {
          "output_type": "stream",
          "name": "stdout",
          "text": [
            "o  Joaquin da silva é nota 10\n"
          ]
        }
      ]
    },
    {
      "cell_type": "code",
      "source": [
        "# é possivel manipular o tipo da variavel e ver o tipo da variavel\n",
        "\n",
        "x = 10\n",
        "\n",
        "type(x)\n",
        "print('x',type(x))\n",
        "\n",
        "nome = 'joaquin'\n",
        "print('nome',type(nome))\n",
        "\n",
        "num_float = 10.5\n",
        "print('num',type(num_float))\n",
        "\n",
        "num2 = '100'\n",
        "num_convertido = int(num2) #isso esta convertendo para inteiro o tipo string do num2\n",
        "print('num2',type(num2))\n",
        "print('num_convertido',type(num_convertido))"
      ],
      "metadata": {
        "colab": {
          "base_uri": "https://localhost:8080/"
        },
        "id": "eR-_mIcpopfc",
        "outputId": "6b2152e2-4796-4f7d-ad33-5f5a652d7a9f"
      },
      "execution_count": 13,
      "outputs": [
        {
          "output_type": "stream",
          "name": "stdout",
          "text": [
            "x <class 'int'>\n",
            "nome <class 'str'>\n",
            "num <class 'float'>\n",
            "num2 <class 'str'>\n",
            "num_convertido <class 'int'>\n"
          ]
        }
      ]
    },
    {
      "cell_type": "markdown",
      "source": [
        "##Input\n",
        "\n",
        "* Força a informação digitada pelo usuario entrar como uma string\n",
        "* Entrada sempre sera um texto na entrada\n"
      ],
      "metadata": {
        "id": "Fr-gPRsep_9J"
      }
    },
    {
      "cell_type": "code",
      "source": [
        "nome = input('Digite seu nome: ') # Espera o usuario inser um texto\n",
        "print('Olá',nome)"
      ],
      "metadata": {
        "colab": {
          "base_uri": "https://localhost:8080/"
        },
        "id": "QvZH_7O0qM1t",
        "outputId": "ef8faeef-3e84-46e5-deb8-b94047c73f0b"
      },
      "execution_count": 14,
      "outputs": [
        {
          "output_type": "stream",
          "name": "stdout",
          "text": [
            "Digite seu nome: Rodrigo o maioral \n",
            "Olá Rodrigo o maioral \n"
          ]
        }
      ]
    },
    {
      "cell_type": "code",
      "source": [
        "# mesmo se a variavel for um inteiro o valor vai ser texto\n",
        "\n",
        "idade = input('Digite sua idade: ')\n",
        "print('Sua idade é:',idade)"
      ],
      "metadata": {
        "colab": {
          "base_uri": "https://localhost:8080/"
        },
        "id": "DMJ7CeZArPlu",
        "outputId": "393c4885-2966-4193-c231-5abaab4e1db3"
      },
      "execution_count": 15,
      "outputs": [
        {
          "output_type": "stream",
          "name": "stdout",
          "text": [
            "Digite sua idade: 45\n",
            "Sua idade é: 45\n"
          ]
        }
      ]
    },
    {
      "cell_type": "code",
      "source": [
        "# se tentarmos tratar o valor de text usando uma variavel inteiro o codigo apresenta erro\n",
        "\n",
        "idade = input('Digite sua idade: ')\n",
        "nova_idade = idade + 1\n",
        "print('Sua idade é:',nova_idade)"
      ],
      "metadata": {
        "colab": {
          "base_uri": "https://localhost:8080/",
          "height": 211
        },
        "id": "d2492rissDVZ",
        "outputId": "987b89f6-6b4b-49e4-eeab-54b354a83b37"
      },
      "execution_count": 16,
      "outputs": [
        {
          "name": "stdout",
          "output_type": "stream",
          "text": [
            "Digite sua idade: 45\n"
          ]
        },
        {
          "output_type": "error",
          "ename": "TypeError",
          "evalue": "can only concatenate str (not \"int\") to str",
          "traceback": [
            "\u001b[0;31m---------------------------------------------------------------------------\u001b[0m",
            "\u001b[0;31mTypeError\u001b[0m                                 Traceback (most recent call last)",
            "\u001b[0;32m<ipython-input-16-6871f0304b04>\u001b[0m in \u001b[0;36m<cell line: 0>\u001b[0;34m()\u001b[0m\n\u001b[1;32m      2\u001b[0m \u001b[0;34m\u001b[0m\u001b[0m\n\u001b[1;32m      3\u001b[0m \u001b[0midade\u001b[0m \u001b[0;34m=\u001b[0m \u001b[0minput\u001b[0m\u001b[0;34m(\u001b[0m\u001b[0;34m'Digite sua idade: '\u001b[0m\u001b[0;34m)\u001b[0m\u001b[0;34m\u001b[0m\u001b[0;34m\u001b[0m\u001b[0m\n\u001b[0;32m----> 4\u001b[0;31m \u001b[0mnova_idade\u001b[0m \u001b[0;34m=\u001b[0m \u001b[0midade\u001b[0m \u001b[0;34m+\u001b[0m \u001b[0;36m1\u001b[0m\u001b[0;34m\u001b[0m\u001b[0;34m\u001b[0m\u001b[0m\n\u001b[0m\u001b[1;32m      5\u001b[0m \u001b[0mprint\u001b[0m\u001b[0;34m(\u001b[0m\u001b[0;34m'Sua idade é:'\u001b[0m\u001b[0;34m,\u001b[0m\u001b[0mnova_idade\u001b[0m\u001b[0;34m)\u001b[0m\u001b[0;34m\u001b[0m\u001b[0;34m\u001b[0m\u001b[0m\n",
            "\u001b[0;31mTypeError\u001b[0m: can only concatenate str (not \"int\") to str"
          ]
        }
      ]
    },
    {
      "cell_type": "code",
      "source": [
        "# para esse caso precisamos converter o texto para inteiro para dar certo\n",
        "\n",
        "idade = input('Digite sua idade: ')\n",
        "# Converte a string 'idade' para um inteiro antes da adição\n",
        "nova_idade = int(idade) + 1\n",
        "print('Sua idade é:',nova_idade)"
      ],
      "metadata": {
        "colab": {
          "base_uri": "https://localhost:8080/"
        },
        "id": "wt6Mn2nlsW8U",
        "outputId": "1790dc4e-e3e4-4f07-9ff2-c39c8456a9cc"
      },
      "execution_count": 17,
      "outputs": [
        {
          "output_type": "stream",
          "name": "stdout",
          "text": [
            "Digite sua idade: 45\n",
            "Sua idade é: 46\n"
          ]
        }
      ]
    }
  ]
}